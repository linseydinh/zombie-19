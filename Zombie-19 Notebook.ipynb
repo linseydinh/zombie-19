{
 "cells": [
  {
   "cell_type": "markdown",
   "id": "35057098",
   "metadata": {},
   "source": [
    "# <u> Zombie-19: Contagion Horror Becomes Reality? </u>"
   ]
  },
  {
   "cell_type": "markdown",
   "id": "f7df838d",
   "metadata": {},
   "source": [
    "![Zombies](zombie.jpg \"Zombie\")"
   ]
  },
  {
   "cell_type": "markdown",
   "id": "dfbcab86",
   "metadata": {},
   "source": [
    "[Image by Charlie Adlard](https://charlieadlard.com/)"
   ]
  },
  {
   "cell_type": "markdown",
   "id": "1b48bb46",
   "metadata": {},
   "source": [
    "# Introduction"
   ]
  },
  {
   "cell_type": "markdown",
   "id": "83f39c83",
   "metadata": {},
   "source": [
    "### Zombie-19 is an exploration of contagion horror (i.e. Zombies) , it's popularity in entertainment media, and it's influence on the COVID-19 pandemic. Contagion horror is a genre of horror that has been present in various forms of literature and media since the earliest human writings and forms of entertainment, which preys on fear of infection and contamination, and contains themes of apocalypse and plague (Sartin 2019). The COVID-19 pandemic was a shocking and foriegn experience to many, while exposure to contagion horror is not. With the growing popularity of contagion horror in media and entertainment, and the COVID-19 pandemic being frightening and unfamiliar, I hypothesized that contagion horror in popular media has influence over the way people think about the COVID-19 Pandemic.\n",
    "\n"
   ]
  },
  {
   "cell_type": "markdown",
   "id": "75b97cc3",
   "metadata": {},
   "source": [
    "## Research Question: Has the increasing popularity and high exposure of contagion horror in American media influenced the way society thinks about the COVID-19 Pandemic?"
   ]
  },
  {
   "cell_type": "markdown",
   "id": "604ddf8c",
   "metadata": {},
   "source": [
    "# Libraries Used for Analysis"
   ]
  },
  {
   "cell_type": "code",
   "execution_count": 1,
   "id": "634b7645",
   "metadata": {},
   "outputs": [],
   "source": [
    "# My Twitter Datasets from Kaggle\n",
    "import pandas as pd\n",
    "import numpy as np\n",
    "import os\n",
    "import seaborn as sns\n",
    "import matplotlib.pyplot as plt"
   ]
  },
  {
   "cell_type": "code",
   "execution_count": 2,
   "id": "2fdb6d69",
   "metadata": {},
   "outputs": [
    {
     "name": "stdout",
     "output_type": "stream",
     "text": [
      "Requirement already satisfied: tweepy in c:\\users\\19092\\anaconda3\\lib\\site-packages (3.10.0)\n",
      "Requirement already satisfied: six>=1.10.0 in c:\\users\\19092\\anaconda3\\lib\\site-packages (from tweepy) (1.15.0)\n",
      "Requirement already satisfied: requests[socks]>=2.11.1 in c:\\users\\19092\\anaconda3\\lib\\site-packages (from tweepy) (2.25.1)\n",
      "Requirement already satisfied: requests-oauthlib>=0.7.0 in c:\\users\\19092\\anaconda3\\lib\\site-packages (from tweepy) (1.3.0)\n",
      "Requirement already satisfied: oauthlib>=3.0.0 in c:\\users\\19092\\anaconda3\\lib\\site-packages (from requests-oauthlib>=0.7.0->tweepy) (3.1.1)\n",
      "Requirement already satisfied: urllib3<1.27,>=1.21.1 in c:\\users\\19092\\anaconda3\\lib\\site-packages (from requests[socks]>=2.11.1->tweepy) (1.26.4)\n",
      "Requirement already satisfied: chardet<5,>=3.0.2 in c:\\users\\19092\\anaconda3\\lib\\site-packages (from requests[socks]>=2.11.1->tweepy) (4.0.0)\n",
      "Requirement already satisfied: idna<3,>=2.5 in c:\\users\\19092\\anaconda3\\lib\\site-packages (from requests[socks]>=2.11.1->tweepy) (2.10)\n",
      "Requirement already satisfied: certifi>=2017.4.17 in c:\\users\\19092\\anaconda3\\lib\\site-packages (from requests[socks]>=2.11.1->tweepy) (2020.12.5)\n",
      "Requirement already satisfied: PySocks!=1.5.7,>=1.5.6 in c:\\users\\19092\\anaconda3\\lib\\site-packages (from requests[socks]>=2.11.1->tweepy) (1.7.1)\n"
     ]
    }
   ],
   "source": [
    "!pip install tweepy \n",
    "# (Twitter API client)\n",
    "import tweepy"
   ]
  },
  {
   "cell_type": "code",
   "execution_count": 226,
   "id": "ff502814",
   "metadata": {},
   "outputs": [
    {
     "name": "stdout",
     "output_type": "stream",
     "text": [
      "Requirement already satisfied: wordcloud in c:\\users\\19092\\anaconda3\\lib\\site-packages (1.8.1)\n",
      "Requirement already satisfied: numpy>=1.6.1 in c:\\users\\19092\\anaconda3\\lib\\site-packages (from wordcloud) (1.20.1)\n",
      "Requirement already satisfied: pillow in c:\\users\\19092\\anaconda3\\lib\\site-packages (from wordcloud) (8.2.0)\n",
      "Requirement already satisfied: matplotlib in c:\\users\\19092\\anaconda3\\lib\\site-packages (from wordcloud) (3.3.4)\n",
      "Requirement already satisfied: python-dateutil>=2.1 in c:\\users\\19092\\anaconda3\\lib\\site-packages (from matplotlib->wordcloud) (2.8.1)\n",
      "Requirement already satisfied: kiwisolver>=1.0.1 in c:\\users\\19092\\anaconda3\\lib\\site-packages (from matplotlib->wordcloud) (1.3.1)\n",
      "Requirement already satisfied: cycler>=0.10 in c:\\users\\19092\\anaconda3\\lib\\site-packages (from matplotlib->wordcloud) (0.10.0)\n",
      "Requirement already satisfied: pyparsing!=2.0.4,!=2.1.2,!=2.1.6,>=2.0.3 in c:\\users\\19092\\anaconda3\\lib\\site-packages (from matplotlib->wordcloud) (2.4.7)\n",
      "Requirement already satisfied: six in c:\\users\\19092\\anaconda3\\lib\\site-packages (from cycler>=0.10->matplotlib->wordcloud) (1.15.0)\n",
      "Requirement already satisfied: gensim in c:\\users\\19092\\anaconda3\\lib\\site-packages (4.0.1)\n",
      "Requirement already satisfied: numpy>=1.11.3 in c:\\users\\19092\\anaconda3\\lib\\site-packages (from gensim) (1.20.1)\n",
      "Requirement already satisfied: smart-open>=1.8.1 in c:\\users\\19092\\anaconda3\\lib\\site-packages (from gensim) (3.0.0)\n",
      "Requirement already satisfied: Cython==0.29.21 in c:\\users\\19092\\anaconda3\\lib\\site-packages (from gensim) (0.29.21)\n",
      "Requirement already satisfied: scipy>=0.18.1 in c:\\users\\19092\\anaconda3\\lib\\site-packages (from gensim) (1.6.2)\n",
      "Requirement already satisfied: requests in c:\\users\\19092\\anaconda3\\lib\\site-packages (from smart-open>=1.8.1->gensim) (2.25.1)\n",
      "Requirement already satisfied: idna<3,>=2.5 in c:\\users\\19092\\anaconda3\\lib\\site-packages (from requests->smart-open>=1.8.1->gensim) (2.10)\n",
      "Requirement already satisfied: certifi>=2017.4.17 in c:\\users\\19092\\anaconda3\\lib\\site-packages (from requests->smart-open>=1.8.1->gensim) (2020.12.5)\n",
      "Requirement already satisfied: chardet<5,>=3.0.2 in c:\\users\\19092\\anaconda3\\lib\\site-packages (from requests->smart-open>=1.8.1->gensim) (4.0.0)\n",
      "Requirement already satisfied: urllib3<1.27,>=1.21.1 in c:\\users\\19092\\anaconda3\\lib\\site-packages (from requests->smart-open>=1.8.1->gensim) (1.26.4)\n",
      "Requirement already satisfied: wordcloud in c:\\users\\19092\\anaconda3\\lib\\site-packages (1.8.1)\n",
      "Requirement already satisfied: pillow in c:\\users\\19092\\anaconda3\\lib\\site-packages (from wordcloud) (8.2.0)\n",
      "Requirement already satisfied: matplotlib in c:\\users\\19092\\anaconda3\\lib\\site-packages (from wordcloud) (3.3.4)\n",
      "Requirement already satisfied: numpy>=1.6.1 in c:\\users\\19092\\anaconda3\\lib\\site-packages (from wordcloud) (1.20.1)\n",
      "Requirement already satisfied: pyparsing!=2.0.4,!=2.1.2,!=2.1.6,>=2.0.3 in c:\\users\\19092\\anaconda3\\lib\\site-packages (from matplotlib->wordcloud) (2.4.7)\n",
      "Requirement already satisfied: python-dateutil>=2.1 in c:\\users\\19092\\anaconda3\\lib\\site-packages (from matplotlib->wordcloud) (2.8.1)\n",
      "Requirement already satisfied: cycler>=0.10 in c:\\users\\19092\\anaconda3\\lib\\site-packages (from matplotlib->wordcloud) (0.10.0)\n",
      "Requirement already satisfied: kiwisolver>=1.0.1 in c:\\users\\19092\\anaconda3\\lib\\site-packages (from matplotlib->wordcloud) (1.3.1)\n",
      "Requirement already satisfied: six in c:\\users\\19092\\anaconda3\\lib\\site-packages (from cycler>=0.10->matplotlib->wordcloud) (1.15.0)\n",
      "Requirement already satisfied: pyldavis in c:\\users\\19092\\anaconda3\\lib\\site-packages (3.3.1)\n",
      "Requirement already satisfied: funcy in c:\\users\\19092\\anaconda3\\lib\\site-packages (from pyldavis) (1.16)\n",
      "Requirement already satisfied: scipy in c:\\users\\19092\\anaconda3\\lib\\site-packages (from pyldavis) (1.6.2)\n",
      "Requirement already satisfied: numpy>=1.20.0 in c:\\users\\19092\\anaconda3\\lib\\site-packages (from pyldavis) (1.20.1)\n",
      "Requirement already satisfied: setuptools in c:\\users\\19092\\anaconda3\\lib\\site-packages (from pyldavis) (52.0.0.post20210125)\n",
      "Requirement already satisfied: numexpr in c:\\users\\19092\\anaconda3\\lib\\site-packages (from pyldavis) (2.7.3)\n",
      "Requirement already satisfied: future in c:\\users\\19092\\anaconda3\\lib\\site-packages (from pyldavis) (0.18.2)\n",
      "Requirement already satisfied: pandas>=1.2.0 in c:\\users\\19092\\anaconda3\\lib\\site-packages (from pyldavis) (1.2.4)\n",
      "Requirement already satisfied: jinja2 in c:\\users\\19092\\anaconda3\\lib\\site-packages (from pyldavis) (2.11.3)\n",
      "Requirement already satisfied: joblib in c:\\users\\19092\\anaconda3\\lib\\site-packages (from pyldavis) (1.0.1)\n",
      "Requirement already satisfied: sklearn in c:\\users\\19092\\anaconda3\\lib\\site-packages (from pyldavis) (0.0)\n",
      "Requirement already satisfied: gensim in c:\\users\\19092\\anaconda3\\lib\\site-packages (from pyldavis) (4.0.1)\n",
      "Requirement already satisfied: scikit-learn in c:\\users\\19092\\anaconda3\\lib\\site-packages (from pyldavis) (0.24.1)\n",
      "Requirement already satisfied: pytz>=2017.3 in c:\\users\\19092\\anaconda3\\lib\\site-packages (from pandas>=1.2.0->pyldavis) (2021.1)\n",
      "Requirement already satisfied: python-dateutil>=2.7.3 in c:\\users\\19092\\anaconda3\\lib\\site-packages (from pandas>=1.2.0->pyldavis) (2.8.1)\n",
      "Requirement already satisfied: six>=1.5 in c:\\users\\19092\\anaconda3\\lib\\site-packages (from python-dateutil>=2.7.3->pandas>=1.2.0->pyldavis) (1.15.0)\n",
      "Requirement already satisfied: smart-open>=1.8.1 in c:\\users\\19092\\anaconda3\\lib\\site-packages (from gensim->pyldavis) (3.0.0)\n",
      "Requirement already satisfied: Cython==0.29.21 in c:\\users\\19092\\anaconda3\\lib\\site-packages (from gensim->pyldavis) (0.29.21)\n",
      "Requirement already satisfied: requests in c:\\users\\19092\\anaconda3\\lib\\site-packages (from smart-open>=1.8.1->gensim->pyldavis) (2.25.1)\n",
      "Requirement already satisfied: MarkupSafe>=0.23 in c:\\users\\19092\\anaconda3\\lib\\site-packages (from jinja2->pyldavis) (1.1.1)\n",
      "Requirement already satisfied: chardet<5,>=3.0.2 in c:\\users\\19092\\anaconda3\\lib\\site-packages (from requests->smart-open>=1.8.1->gensim->pyldavis) (4.0.0)\n",
      "Requirement already satisfied: urllib3<1.27,>=1.21.1 in c:\\users\\19092\\anaconda3\\lib\\site-packages (from requests->smart-open>=1.8.1->gensim->pyldavis) (1.26.4)\n",
      "Requirement already satisfied: idna<3,>=2.5 in c:\\users\\19092\\anaconda3\\lib\\site-packages (from requests->smart-open>=1.8.1->gensim->pyldavis) (2.10)\n",
      "Requirement already satisfied: certifi>=2017.4.17 in c:\\users\\19092\\anaconda3\\lib\\site-packages (from requests->smart-open>=1.8.1->gensim->pyldavis) (2020.12.5)\n",
      "Requirement already satisfied: threadpoolctl>=2.0.0 in c:\\users\\19092\\anaconda3\\lib\\site-packages (from scikit-learn->pyldavis) (2.1.0)\n"
     ]
    }
   ],
   "source": [
    "#Wordcloud\n",
    "!pip install wordcloud\n",
    "!pip install gensim\n",
    "!pip install wordcloud\n",
    "!pip install pyldavis"
   ]
  },
  {
   "cell_type": "code",
   "execution_count": 228,
   "id": "43184b1d",
   "metadata": {},
   "outputs": [],
   "source": [
    "#Text analysis \n",
    "from collections import Counter # Count most common words\n",
    "import gensim # word2vec model\n",
    "%matplotlib inline\n",
    "import nltk # natural language toolkit\n",
    "from nltk.corpus import stopwords\n",
    "from nltk.corpus import movie_reviews # another dataset \n",
    "import pyLDAvis.sklearn # visualize our topic models!\n",
    "import re # regular expressions\n",
    "# CV (multiple train/test splitting)\n",
    "from sklearn.model_selection import cross_val_score, train_test_split\n",
    "# Algorithms (unsupervised)\n",
    "from sklearn.decomposition import LatentDirichletAllocation, PCA\n",
    "# (supervised)\n",
    "from sklearn.linear_model import LogisticRegression\n",
    "# Tools to create our DTMs\n",
    "from sklearn.feature_extraction.text import CountVectorizer, TfidfVectorizer, TfidfTransformer\n",
    "# Speed up your machine learning setup\n",
    "from sklearn.pipeline import Pipeline\n",
    "# Mix up our training and test sets\n",
    "from sklearn.utils import shuffle\n",
    "# Super awesome NLP library\n",
    "import spacy\n",
    "# Visualize word clouds \n",
    "from wordcloud import WordCloud\n",
    "import warnings\n",
    "warnings.filterwarnings(\"ignore\", category = DeprecationWarning)"
   ]
  },
  {
   "cell_type": "markdown",
   "id": "4f679eea",
   "metadata": {},
   "source": [
    "# Twitter Analysis (API and Kaggle Datasets)"
   ]
  },
  {
   "cell_type": "markdown",
   "id": "907a3019",
   "metadata": {},
   "source": [
    "## Inspired by Google Trends \"Zombie Apocalypse\""
   ]
  },
  {
   "attachments": {
    "googletrends.png": {
     "image/png": "[encoded data removed]"
    }
   },
   "cell_type": "markdown",
   "id": "74c79882",
   "metadata": {},
   "source": [
    "![googletrends.png](attachment:googletrends.png)"
   ]
  },
  {
   "cell_type": "markdown",
   "id": "6a67f45f",
   "metadata": {},
   "source": [
    "#### Peaks from 02/28/2021-03/06/2021"
   ]
  },
  {
   "attachments": {
    "SCSS.PNG": {
     "image/png": "[encoded data removed]"
    }
   },
   "cell_type": "markdown",
   "id": "dad609f4",
   "metadata": {},
   "source": [
    "![SCSS.PNG](attachment:SCSS.PNG)"
   ]
  },
  {
   "cell_type": "markdown",
   "id": "23438342",
   "metadata": {},
   "source": [
    "### Does it have something to do with the CDC releasing a zombie preperation guideline?"
   ]
  },
  {
   "cell_type": "markdown",
   "id": "a72793be",
   "metadata": {},
   "source": [
    "## Twitter API. Creation of my datasets. "
   ]
  },
  {
   "cell_type": "code",
   "execution_count": 3,
   "id": "bf0fd48e",
   "metadata": {},
   "outputs": [],
   "source": [
    "auth = tweepy.OAuthHandler(\"BqHFKQU7AlUkDF7mi7WOKsvUB\", \"hML0s4CLN4JAGfnJgwzErDnybrf27wGqdNHkS6DIBdvjOxSGex\")\n",
    "auth.set_access_token(\"1405593547756036096-sB0fC8SHn6or4jGtbk3FJNy9KV30Do\", \"FhZWebwSWMhXhOkO8IMFqSIk3ZvPGpHi3SYo1MJlZoqGv\")\n",
    "\n",
    "api = tweepy.API(auth, wait_on_rate_limit=True,\n",
    "    wait_on_rate_limit_notify=True)"
   ]
  },
  {
   "cell_type": "code",
   "execution_count": 4,
   "id": "3f9fab5c",
   "metadata": {},
   "outputs": [
    {
     "name": "stdout",
     "output_type": "stream",
     "text": [
      "Success!\n"
     ]
    }
   ],
   "source": [
    "try:\n",
    "    api.verify_credentials()\n",
    "    print(\"Success!\")\n",
    "except:\n",
    "    print(\"Invalid authentication\")"
   ]
  },
  {
   "cell_type": "markdown",
   "id": "c5e58b47",
   "metadata": {},
   "source": [
    "### Use the search_full_archive function, search words \"Covid and the zombie apocalypse\" (Only 100 Tweets) :("
   ]
  },
  {
   "cell_type": "code",
   "execution_count": null,
   "id": "085cbd90",
   "metadata": {},
   "outputs": [],
   "source": [
    "search_words = \"Covid and the zombie apocalypse\"\n",
    "date_since = \"202102280000\"\n",
    "date_to = \"202103062359\"\n",
    "feb_tweets=api.search_full_archive (environment_name='confused',query=search_words , fromDate=date_since, toDate=date_to, )\n",
    "#print(feb_tweets)"
   ]
  },
  {
   "cell_type": "markdown",
   "id": "9db76095",
   "metadata": {},
   "source": [
    "### Turn this into a dataset"
   ]
  },
  {
   "cell_type": "code",
   "execution_count": 7,
   "id": "55ec2807",
   "metadata": {
    "scrolled": true
   },
   "outputs": [
    {
     "data": {
      "text/html": [
       "<div>\n",
       "<style scoped>\n",
       "    .dataframe tbody tr th:only-of-type {\n",
       "        vertical-align: middle;\n",
       "    }\n",
       "\n",
       "    .dataframe tbody tr th {\n",
       "        vertical-align: top;\n",
       "    }\n",
       "\n",
       "    .dataframe thead th {\n",
       "        text-align: right;\n",
       "    }\n",
       "</style>\n",
       "<table border=\"1\" class=\"dataframe\">\n",
       "  <thead>\n",
       "    <tr style=\"text-align: right;\">\n",
       "      <th></th>\n",
       "      <th>created_at</th>\n",
       "      <th>id</th>\n",
       "      <th>id_str</th>\n",
       "      <th>text</th>\n",
       "      <th>display_text_range</th>\n",
       "      <th>source</th>\n",
       "      <th>truncated</th>\n",
       "      <th>in_reply_to_status_id</th>\n",
       "      <th>in_reply_to_status_id_str</th>\n",
       "      <th>in_reply_to_user_id</th>\n",
       "      <th>...</th>\n",
       "      <th>quoted_status.extended_entities.media</th>\n",
       "      <th>place.id</th>\n",
       "      <th>place.url</th>\n",
       "      <th>place.place_type</th>\n",
       "      <th>place.name</th>\n",
       "      <th>place.full_name</th>\n",
       "      <th>place.country_code</th>\n",
       "      <th>place.country</th>\n",
       "      <th>place.bounding_box.type</th>\n",
       "      <th>place.bounding_box.coordinates</th>\n",
       "    </tr>\n",
       "  </thead>\n",
       "  <tbody>\n",
       "    <tr>\n",
       "      <th>0</th>\n",
       "      <td>Sat Mar 06 21:33:59 +0000 2021</td>\n",
       "      <td>1368313936643297287</td>\n",
       "      <td>1368313936643297287</td>\n",
       "      <td>@TommyPistol I have a friend who kept saying m...</td>\n",
       "      <td>[13, 140]</td>\n",
       "      <td>&lt;a href=\"http://twitter.com/download/iphone\" r...</td>\n",
       "      <td>True</td>\n",
       "      <td>1.368312e+18</td>\n",
       "      <td>1368311502105550849</td>\n",
       "      <td>3.879344e+07</td>\n",
       "      <td>...</td>\n",
       "      <td>NaN</td>\n",
       "      <td>NaN</td>\n",
       "      <td>NaN</td>\n",
       "      <td>NaN</td>\n",
       "      <td>NaN</td>\n",
       "      <td>NaN</td>\n",
       "      <td>NaN</td>\n",
       "      <td>NaN</td>\n",
       "      <td>NaN</td>\n",
       "      <td>NaN</td>\n",
       "    </tr>\n",
       "    <tr>\n",
       "      <th>1</th>\n",
       "      <td>Sat Mar 06 21:20:00 +0000 2021</td>\n",
       "      <td>1368310418461106185</td>\n",
       "      <td>1368310418461106185</td>\n",
       "      <td>To help people become better prepared to withs...</td>\n",
       "      <td>NaN</td>\n",
       "      <td>&lt;a href=\"http://www.socialnewsdesk.com\" rel=\"n...</td>\n",
       "      <td>True</td>\n",
       "      <td>NaN</td>\n",
       "      <td>None</td>\n",
       "      <td>NaN</td>\n",
       "      <td>...</td>\n",
       "      <td>NaN</td>\n",
       "      <td>NaN</td>\n",
       "      <td>NaN</td>\n",
       "      <td>NaN</td>\n",
       "      <td>NaN</td>\n",
       "      <td>NaN</td>\n",
       "      <td>NaN</td>\n",
       "      <td>NaN</td>\n",
       "      <td>NaN</td>\n",
       "      <td>NaN</td>\n",
       "    </tr>\n",
       "    <tr>\n",
       "      <th>2</th>\n",
       "      <td>Sat Mar 06 06:09:43 +0000 2021</td>\n",
       "      <td>1368081337383542784</td>\n",
       "      <td>1368081337383542784</td>\n",
       "      <td>I love how positively and seriously the tl is ...</td>\n",
       "      <td>NaN</td>\n",
       "      <td>&lt;a href=\"http://twitter.com/download/android\" ...</td>\n",
       "      <td>False</td>\n",
       "      <td>NaN</td>\n",
       "      <td>None</td>\n",
       "      <td>NaN</td>\n",
       "      <td>...</td>\n",
       "      <td>NaN</td>\n",
       "      <td>NaN</td>\n",
       "      <td>NaN</td>\n",
       "      <td>NaN</td>\n",
       "      <td>NaN</td>\n",
       "      <td>NaN</td>\n",
       "      <td>NaN</td>\n",
       "      <td>NaN</td>\n",
       "      <td>NaN</td>\n",
       "      <td>NaN</td>\n",
       "    </tr>\n",
       "    <tr>\n",
       "      <th>3</th>\n",
       "      <td>Sat Mar 06 04:28:09 +0000 2021</td>\n",
       "      <td>1368055779383775233</td>\n",
       "      <td>1368055779383775233</td>\n",
       "      <td>This one did it for me.\\n\\nTook another call a...</td>\n",
       "      <td>NaN</td>\n",
       "      <td>&lt;a href=\"https://mobile.twitter.com\" rel=\"nofo...</td>\n",
       "      <td>True</td>\n",
       "      <td>1.368056e+18</td>\n",
       "      <td>1368055778721083392</td>\n",
       "      <td>3.649076e+07</td>\n",
       "      <td>...</td>\n",
       "      <td>NaN</td>\n",
       "      <td>NaN</td>\n",
       "      <td>NaN</td>\n",
       "      <td>NaN</td>\n",
       "      <td>NaN</td>\n",
       "      <td>NaN</td>\n",
       "      <td>NaN</td>\n",
       "      <td>NaN</td>\n",
       "      <td>NaN</td>\n",
       "      <td>NaN</td>\n",
       "    </tr>\n",
       "    <tr>\n",
       "      <th>4</th>\n",
       "      <td>Sat Mar 06 03:02:13 +0000 2021</td>\n",
       "      <td>1368034151866249219</td>\n",
       "      <td>1368034151866249219</td>\n",
       "      <td>Also if you are thirsty do not eat it will exh...</td>\n",
       "      <td>NaN</td>\n",
       "      <td>&lt;a href=\"http://twitter.com/download/android\" ...</td>\n",
       "      <td>True</td>\n",
       "      <td>NaN</td>\n",
       "      <td>None</td>\n",
       "      <td>NaN</td>\n",
       "      <td>...</td>\n",
       "      <td>NaN</td>\n",
       "      <td>NaN</td>\n",
       "      <td>NaN</td>\n",
       "      <td>NaN</td>\n",
       "      <td>NaN</td>\n",
       "      <td>NaN</td>\n",
       "      <td>NaN</td>\n",
       "      <td>NaN</td>\n",
       "      <td>NaN</td>\n",
       "      <td>NaN</td>\n",
       "    </tr>\n",
       "    <tr>\n",
       "      <th>...</th>\n",
       "      <td>...</td>\n",
       "      <td>...</td>\n",
       "      <td>...</td>\n",
       "      <td>...</td>\n",
       "      <td>...</td>\n",
       "      <td>...</td>\n",
       "      <td>...</td>\n",
       "      <td>...</td>\n",
       "      <td>...</td>\n",
       "      <td>...</td>\n",
       "      <td>...</td>\n",
       "      <td>...</td>\n",
       "      <td>...</td>\n",
       "      <td>...</td>\n",
       "      <td>...</td>\n",
       "      <td>...</td>\n",
       "      <td>...</td>\n",
       "      <td>...</td>\n",
       "      <td>...</td>\n",
       "      <td>...</td>\n",
       "      <td>...</td>\n",
       "    </tr>\n",
       "    <tr>\n",
       "      <th>69</th>\n",
       "      <td>Sun Feb 28 20:20:37 +0000 2021</td>\n",
       "      <td>1366121148497334275</td>\n",
       "      <td>1366121148497334275</td>\n",
       "      <td>@UrbaniteAlaska @purrenrage The only way we ar...</td>\n",
       "      <td>[28, 140]</td>\n",
       "      <td>&lt;a href=\"http://twitter.com/download/android\" ...</td>\n",
       "      <td>True</td>\n",
       "      <td>1.366097e+18</td>\n",
       "      <td>1366096723324461056</td>\n",
       "      <td>3.195622e+09</td>\n",
       "      <td>...</td>\n",
       "      <td>NaN</td>\n",
       "      <td>NaN</td>\n",
       "      <td>NaN</td>\n",
       "      <td>NaN</td>\n",
       "      <td>NaN</td>\n",
       "      <td>NaN</td>\n",
       "      <td>NaN</td>\n",
       "      <td>NaN</td>\n",
       "      <td>NaN</td>\n",
       "      <td>NaN</td>\n",
       "    </tr>\n",
       "    <tr>\n",
       "      <th>70</th>\n",
       "      <td>Sun Feb 28 17:47:50 +0000 2021</td>\n",
       "      <td>1366082696254869510</td>\n",
       "      <td>1366082696254869510</td>\n",
       "      <td>Fuck it, release Covid-21. Let's have a full b...</td>\n",
       "      <td>NaN</td>\n",
       "      <td>&lt;a href=\"http://twitter.com/download/android\" ...</td>\n",
       "      <td>True</td>\n",
       "      <td>NaN</td>\n",
       "      <td>None</td>\n",
       "      <td>NaN</td>\n",
       "      <td>...</td>\n",
       "      <td>NaN</td>\n",
       "      <td>NaN</td>\n",
       "      <td>NaN</td>\n",
       "      <td>NaN</td>\n",
       "      <td>NaN</td>\n",
       "      <td>NaN</td>\n",
       "      <td>NaN</td>\n",
       "      <td>NaN</td>\n",
       "      <td>NaN</td>\n",
       "      <td>NaN</td>\n",
       "    </tr>\n",
       "    <tr>\n",
       "      <th>71</th>\n",
       "      <td>Sun Feb 28 14:56:03 +0000 2021</td>\n",
       "      <td>1366039468965257222</td>\n",
       "      <td>1366039468965257222</td>\n",
       "      <td>@Bigdogdigs One good thing about a zombie apoc...</td>\n",
       "      <td>[12, 140]</td>\n",
       "      <td>&lt;a href=\"https://mobile.twitter.com\" rel=\"nofo...</td>\n",
       "      <td>True</td>\n",
       "      <td>1.366038e+18</td>\n",
       "      <td>1366038194521837573</td>\n",
       "      <td>6.297838e+08</td>\n",
       "      <td>...</td>\n",
       "      <td>NaN</td>\n",
       "      <td>NaN</td>\n",
       "      <td>NaN</td>\n",
       "      <td>NaN</td>\n",
       "      <td>NaN</td>\n",
       "      <td>NaN</td>\n",
       "      <td>NaN</td>\n",
       "      <td>NaN</td>\n",
       "      <td>NaN</td>\n",
       "      <td>NaN</td>\n",
       "    </tr>\n",
       "    <tr>\n",
       "      <th>72</th>\n",
       "      <td>Sun Feb 28 08:55:46 +0000 2021</td>\n",
       "      <td>1365948800666398720</td>\n",
       "      <td>1365948800666398720</td>\n",
       "      <td>And also now looking back at this strange thin...</td>\n",
       "      <td>NaN</td>\n",
       "      <td>&lt;a href=\"https://mobile.twitter.com\" rel=\"nofo...</td>\n",
       "      <td>True</td>\n",
       "      <td>NaN</td>\n",
       "      <td>None</td>\n",
       "      <td>NaN</td>\n",
       "      <td>...</td>\n",
       "      <td>NaN</td>\n",
       "      <td>NaN</td>\n",
       "      <td>NaN</td>\n",
       "      <td>NaN</td>\n",
       "      <td>NaN</td>\n",
       "      <td>NaN</td>\n",
       "      <td>NaN</td>\n",
       "      <td>NaN</td>\n",
       "      <td>NaN</td>\n",
       "      <td>NaN</td>\n",
       "    </tr>\n",
       "    <tr>\n",
       "      <th>73</th>\n",
       "      <td>Sun Feb 28 03:53:19 +0000 2021</td>\n",
       "      <td>1365872683817127942</td>\n",
       "      <td>1365872683817127942</td>\n",
       "      <td>@Kryptokid714 @numbers_truth @hurley9192 @Mari...</td>\n",
       "      <td>[117, 140]</td>\n",
       "      <td>&lt;a href=\"http://twitter.com/download/android\" ...</td>\n",
       "      <td>True</td>\n",
       "      <td>1.365868e+18</td>\n",
       "      <td>1365868351872925702</td>\n",
       "      <td>3.275277e+09</td>\n",
       "      <td>...</td>\n",
       "      <td>NaN</td>\n",
       "      <td>NaN</td>\n",
       "      <td>NaN</td>\n",
       "      <td>NaN</td>\n",
       "      <td>NaN</td>\n",
       "      <td>NaN</td>\n",
       "      <td>NaN</td>\n",
       "      <td>NaN</td>\n",
       "      <td>NaN</td>\n",
       "      <td>NaN</td>\n",
       "    </tr>\n",
       "  </tbody>\n",
       "</table>\n",
       "<p>74 rows × 249 columns</p>\n",
       "</div>"
      ],
      "text/plain": [
       "                        created_at                   id               id_str  \\\n",
       "0   Sat Mar 06 21:33:59 +0000 2021  1368313936643297287  1368313936643297287   \n",
       "1   Sat Mar 06 21:20:00 +0000 2021  1368310418461106185  1368310418461106185   \n",
       "2   Sat Mar 06 06:09:43 +0000 2021  1368081337383542784  1368081337383542784   \n",
       "3   Sat Mar 06 04:28:09 +0000 2021  1368055779383775233  1368055779383775233   \n",
       "4   Sat Mar 06 03:02:13 +0000 2021  1368034151866249219  1368034151866249219   \n",
       "..                             ...                  ...                  ...   \n",
       "69  Sun Feb 28 20:20:37 +0000 2021  1366121148497334275  1366121148497334275   \n",
       "70  Sun Feb 28 17:47:50 +0000 2021  1366082696254869510  1366082696254869510   \n",
       "71  Sun Feb 28 14:56:03 +0000 2021  1366039468965257222  1366039468965257222   \n",
       "72  Sun Feb 28 08:55:46 +0000 2021  1365948800666398720  1365948800666398720   \n",
       "73  Sun Feb 28 03:53:19 +0000 2021  1365872683817127942  1365872683817127942   \n",
       "\n",
       "                                                 text display_text_range  \\\n",
       "0   @TommyPistol I have a friend who kept saying m...          [13, 140]   \n",
       "1   To help people become better prepared to withs...                NaN   \n",
       "2   I love how positively and seriously the tl is ...                NaN   \n",
       "3   This one did it for me.\\n\\nTook another call a...                NaN   \n",
       "4   Also if you are thirsty do not eat it will exh...                NaN   \n",
       "..                                                ...                ...   \n",
       "69  @UrbaniteAlaska @purrenrage The only way we ar...          [28, 140]   \n",
       "70  Fuck it, release Covid-21. Let's have a full b...                NaN   \n",
       "71  @Bigdogdigs One good thing about a zombie apoc...          [12, 140]   \n",
       "72  And also now looking back at this strange thin...                NaN   \n",
       "73  @Kryptokid714 @numbers_truth @hurley9192 @Mari...         [117, 140]   \n",
       "\n",
       "                                               source  truncated  \\\n",
       "0   <a href=\"http://twitter.com/download/iphone\" r...       True   \n",
       "1   <a href=\"http://www.socialnewsdesk.com\" rel=\"n...       True   \n",
       "2   <a href=\"http://twitter.com/download/android\" ...      False   \n",
       "3   <a href=\"https://mobile.twitter.com\" rel=\"nofo...       True   \n",
       "4   <a href=\"http://twitter.com/download/android\" ...       True   \n",
       "..                                                ...        ...   \n",
       "69  <a href=\"http://twitter.com/download/android\" ...       True   \n",
       "70  <a href=\"http://twitter.com/download/android\" ...       True   \n",
       "71  <a href=\"https://mobile.twitter.com\" rel=\"nofo...       True   \n",
       "72  <a href=\"https://mobile.twitter.com\" rel=\"nofo...       True   \n",
       "73  <a href=\"http://twitter.com/download/android\" ...       True   \n",
       "\n",
       "    in_reply_to_status_id in_reply_to_status_id_str  in_reply_to_user_id  ...  \\\n",
       "0            1.368312e+18       1368311502105550849         3.879344e+07  ...   \n",
       "1                     NaN                      None                  NaN  ...   \n",
       "2                     NaN                      None                  NaN  ...   \n",
       "3            1.368056e+18       1368055778721083392         3.649076e+07  ...   \n",
       "4                     NaN                      None                  NaN  ...   \n",
       "..                    ...                       ...                  ...  ...   \n",
       "69           1.366097e+18       1366096723324461056         3.195622e+09  ...   \n",
       "70                    NaN                      None                  NaN  ...   \n",
       "71           1.366038e+18       1366038194521837573         6.297838e+08  ...   \n",
       "72                    NaN                      None                  NaN  ...   \n",
       "73           1.365868e+18       1365868351872925702         3.275277e+09  ...   \n",
       "\n",
       "   quoted_status.extended_entities.media place.id place.url place.place_type  \\\n",
       "0                                    NaN      NaN       NaN              NaN   \n",
       "1                                    NaN      NaN       NaN              NaN   \n",
       "2                                    NaN      NaN       NaN              NaN   \n",
       "3                                    NaN      NaN       NaN              NaN   \n",
       "4                                    NaN      NaN       NaN              NaN   \n",
       "..                                   ...      ...       ...              ...   \n",
       "69                                   NaN      NaN       NaN              NaN   \n",
       "70                                   NaN      NaN       NaN              NaN   \n",
       "71                                   NaN      NaN       NaN              NaN   \n",
       "72                                   NaN      NaN       NaN              NaN   \n",
       "73                                   NaN      NaN       NaN              NaN   \n",
       "\n",
       "    place.name place.full_name  place.country_code  place.country  \\\n",
       "0          NaN             NaN                 NaN            NaN   \n",
       "1          NaN             NaN                 NaN            NaN   \n",
       "2          NaN             NaN                 NaN            NaN   \n",
       "3          NaN             NaN                 NaN            NaN   \n",
       "4          NaN             NaN                 NaN            NaN   \n",
       "..         ...             ...                 ...            ...   \n",
       "69         NaN             NaN                 NaN            NaN   \n",
       "70         NaN             NaN                 NaN            NaN   \n",
       "71         NaN             NaN                 NaN            NaN   \n",
       "72         NaN             NaN                 NaN            NaN   \n",
       "73         NaN             NaN                 NaN            NaN   \n",
       "\n",
       "    place.bounding_box.type  place.bounding_box.coordinates  \n",
       "0                       NaN                             NaN  \n",
       "1                       NaN                             NaN  \n",
       "2                       NaN                             NaN  \n",
       "3                       NaN                             NaN  \n",
       "4                       NaN                             NaN  \n",
       "..                      ...                             ...  \n",
       "69                      NaN                             NaN  \n",
       "70                      NaN                             NaN  \n",
       "71                      NaN                             NaN  \n",
       "72                      NaN                             NaN  \n",
       "73                      NaN                             NaN  \n",
       "\n",
       "[74 rows x 249 columns]"
      ]
     },
     "execution_count": 7,
     "metadata": {},
     "output_type": "execute_result"
    }
   ],
   "source": [
    "json_data = [r._json for r in feb_tweets]\n",
    "\n",
    "febtomar = pd.json_normalize(json_data)\n",
    "febtomar"
   ]
  },
  {
   "cell_type": "markdown",
   "id": "d4b32828",
   "metadata": {},
   "source": [
    "### Standardization, reducing my dataset"
   ]
  },
  {
   "cell_type": "code",
   "execution_count": 9,
   "id": "c3d66ffe",
   "metadata": {},
   "outputs": [
    {
     "data": {
      "text/plain": [
       "Index(['Time', 'id', 'id_str', 'Tweet', 'display_text_range', 'source',\n",
       "       'truncated', 'in_reply_to_status_id', 'in_reply_to_status_id_str',\n",
       "       'in_reply_to_user_id',\n",
       "       ...\n",
       "       'quoted_status.extended_entities.media', 'place.id', 'place.url',\n",
       "       'place.place_type', 'place.name', 'place.full_name',\n",
       "       'place.country_code', 'place.country', 'place.bounding_box.type',\n",
       "       'place.bounding_box.coordinates'],\n",
       "      dtype='object', length=249)"
      ]
     },
     "execution_count": 9,
     "metadata": {},
     "output_type": "execute_result"
    }
   ],
   "source": [
    "febtomar.rename(columns = {\"created_at\":\"Time\",\n",
    "                       \"text\":\"Tweet\"},\n",
    "            inplace = True)\n",
    "febtomar.columns"
   ]
  },
  {
   "cell_type": "code",
   "execution_count": 10,
   "id": "939421c6",
   "metadata": {},
   "outputs": [],
   "source": [
    "febtomar['Time'] = pd.to_datetime(febtomar['Time'])"
   ]
  },
  {
   "cell_type": "code",
   "execution_count": 11,
   "id": "2e90198c",
   "metadata": {},
   "outputs": [],
   "source": [
    "firstcovidtweets=febtomar.iloc[:, [0,3]]"
   ]
  },
  {
   "cell_type": "code",
   "execution_count": 12,
   "id": "75e25fc3",
   "metadata": {},
   "outputs": [],
   "source": [
    "firstcovidtweets.to_csv(\"firstofcoviddataset.csv\")"
   ]
  },
  {
   "cell_type": "code",
   "execution_count": 13,
   "id": "9d67de42",
   "metadata": {
    "scrolled": false
   },
   "outputs": [
    {
     "data": {
      "text/html": [
       "<div>\n",
       "<style scoped>\n",
       "    .dataframe tbody tr th:only-of-type {\n",
       "        vertical-align: middle;\n",
       "    }\n",
       "\n",
       "    .dataframe tbody tr th {\n",
       "        vertical-align: top;\n",
       "    }\n",
       "\n",
       "    .dataframe thead th {\n",
       "        text-align: right;\n",
       "    }\n",
       "</style>\n",
       "<table border=\"1\" class=\"dataframe\">\n",
       "  <thead>\n",
       "    <tr style=\"text-align: right;\">\n",
       "      <th></th>\n",
       "      <th>Time</th>\n",
       "      <th>Tweet</th>\n",
       "    </tr>\n",
       "  </thead>\n",
       "  <tbody>\n",
       "    <tr>\n",
       "      <th>0</th>\n",
       "      <td>2021-03-06 21:33:59+00:00</td>\n",
       "      <td>@TommyPistol I have a friend who kept saying m...</td>\n",
       "    </tr>\n",
       "    <tr>\n",
       "      <th>1</th>\n",
       "      <td>2021-03-06 21:20:00+00:00</td>\n",
       "      <td>To help people become better prepared to withs...</td>\n",
       "    </tr>\n",
       "    <tr>\n",
       "      <th>2</th>\n",
       "      <td>2021-03-06 06:09:43+00:00</td>\n",
       "      <td>I love how positively and seriously the tl is ...</td>\n",
       "    </tr>\n",
       "    <tr>\n",
       "      <th>3</th>\n",
       "      <td>2021-03-06 04:28:09+00:00</td>\n",
       "      <td>This one did it for me.\\n\\nTook another call a...</td>\n",
       "    </tr>\n",
       "    <tr>\n",
       "      <th>4</th>\n",
       "      <td>2021-03-06 03:02:13+00:00</td>\n",
       "      <td>Also if you are thirsty do not eat it will exh...</td>\n",
       "    </tr>\n",
       "    <tr>\n",
       "      <th>...</th>\n",
       "      <td>...</td>\n",
       "      <td>...</td>\n",
       "    </tr>\n",
       "    <tr>\n",
       "      <th>69</th>\n",
       "      <td>2021-02-28 20:20:37+00:00</td>\n",
       "      <td>@UrbaniteAlaska @purrenrage The only way we ar...</td>\n",
       "    </tr>\n",
       "    <tr>\n",
       "      <th>70</th>\n",
       "      <td>2021-02-28 17:47:50+00:00</td>\n",
       "      <td>Fuck it, release Covid-21. Let's have a full b...</td>\n",
       "    </tr>\n",
       "    <tr>\n",
       "      <th>71</th>\n",
       "      <td>2021-02-28 14:56:03+00:00</td>\n",
       "      <td>@Bigdogdigs One good thing about a zombie apoc...</td>\n",
       "    </tr>\n",
       "    <tr>\n",
       "      <th>72</th>\n",
       "      <td>2021-02-28 08:55:46+00:00</td>\n",
       "      <td>And also now looking back at this strange thin...</td>\n",
       "    </tr>\n",
       "    <tr>\n",
       "      <th>73</th>\n",
       "      <td>2021-02-28 03:53:19+00:00</td>\n",
       "      <td>@Kryptokid714 @numbers_truth @hurley9192 @Mari...</td>\n",
       "    </tr>\n",
       "  </tbody>\n",
       "</table>\n",
       "<p>74 rows × 2 columns</p>\n",
       "</div>"
      ],
      "text/plain": [
       "                        Time  \\\n",
       "0  2021-03-06 21:33:59+00:00   \n",
       "1  2021-03-06 21:20:00+00:00   \n",
       "2  2021-03-06 06:09:43+00:00   \n",
       "3  2021-03-06 04:28:09+00:00   \n",
       "4  2021-03-06 03:02:13+00:00   \n",
       "..                       ...   \n",
       "69 2021-02-28 20:20:37+00:00   \n",
       "70 2021-02-28 17:47:50+00:00   \n",
       "71 2021-02-28 14:56:03+00:00   \n",
       "72 2021-02-28 08:55:46+00:00   \n",
       "73 2021-02-28 03:53:19+00:00   \n",
       "\n",
       "                                                Tweet  \n",
       "0   @TommyPistol I have a friend who kept saying m...  \n",
       "1   To help people become better prepared to withs...  \n",
       "2   I love how positively and seriously the tl is ...  \n",
       "3   This one did it for me.\\n\\nTook another call a...  \n",
       "4   Also if you are thirsty do not eat it will exh...  \n",
       "..                                                ...  \n",
       "69  @UrbaniteAlaska @purrenrage The only way we ar...  \n",
       "70  Fuck it, release Covid-21. Let's have a full b...  \n",
       "71  @Bigdogdigs One good thing about a zombie apoc...  \n",
       "72  And also now looking back at this strange thin...  \n",
       "73  @Kryptokid714 @numbers_truth @hurley9192 @Mari...  \n",
       "\n",
       "[74 rows x 2 columns]"
      ]
     },
     "execution_count": 13,
     "metadata": {},
     "output_type": "execute_result"
    }
   ],
   "source": [
    "firstcovidtweets"
   ]
  },
  {
   "cell_type": "code",
   "execution_count": 382,
   "id": "e91c5f32",
   "metadata": {},
   "outputs": [],
   "source": [
    "pd.set_option(\"display.max_colwidth\", None)\n",
    "#firstcovidtweets"
   ]
  },
  {
   "cell_type": "code",
   "execution_count": 383,
   "id": "848119c0",
   "metadata": {
    "scrolled": true
   },
   "outputs": [
    {
     "data": {
      "text/plain": [
       "['@TommyPistol I have a friend who kept saying mankind could pull through a zombie apocalypse, particularly the walki… https://t.co/rCimoMqc6L',\n",
       " 'To help people become better prepared to withstand natural disasters and other unforeseen events — such as the COVI… https://t.co/F1Yb0y8q6l',\n",
       " 'I love how positively and seriously the tl is discussing about zombie apocalypse surviving. We all went after covid, anything is possible.',\n",
       " 'This one did it for me.\\n\\nTook another call asking about COVID-15 (???), the zombie apocalypse, and how a he (who ad… https://t.co/Yrho6nd9YR',\n",
       " \"Also if you are thirsty do not eat it will exhausturbate the dehydration if you have to eat avoid salty foods \\n\\nI'm… https://t.co/gbmMiBa7hg\"]"
      ]
     },
     "execution_count": 383,
     "metadata": {},
     "output_type": "execute_result"
    }
   ],
   "source": [
    "list(firstcovidtweets[0:5][\"Tweet\"])"
   ]
  },
  {
   "cell_type": "markdown",
   "id": "563f56d7",
   "metadata": {},
   "source": [
    "### Cleaning unnecessary punctuation and urls :)"
   ]
  },
  {
   "cell_type": "code",
   "execution_count": 385,
   "id": "ba516354",
   "metadata": {
    "scrolled": true
   },
   "outputs": [
    {
     "name": "stderr",
     "output_type": "stream",
     "text": [
      "<ipython-input-385-dbcf3465dc46>:1: SettingWithCopyWarning: \n",
      "A value is trying to be set on a copy of a slice from a DataFrame.\n",
      "Try using .loc[row_indexer,col_indexer] = value instead\n",
      "\n",
      "See the caveats in the documentation: https://pandas.pydata.org/pandas-docs/stable/user_guide/indexing.html#returning-a-view-versus-a-copy\n",
      "  firstcovidtweets[\"Text_processed\"] = firstcovidtweets[\"Tweet\"].map(lambda x: re.sub('[,\\.!?]', '', x))\n",
      "<ipython-input-385-dbcf3465dc46>:2: SettingWithCopyWarning: \n",
      "A value is trying to be set on a copy of a slice from a DataFrame.\n",
      "Try using .loc[row_indexer,col_indexer] = value instead\n",
      "\n",
      "See the caveats in the documentation: https://pandas.pydata.org/pandas-docs/stable/user_guide/indexing.html#returning-a-view-versus-a-copy\n",
      "  firstcovidtweets[\"Text_processed\"] = firstcovidtweets[\"Text_processed\"].map(lambda x: x.lower())\n",
      "<ipython-input-385-dbcf3465dc46>:3: FutureWarning: The default value of regex will change from True to False in a future version.\n",
      "  firstcovidtweets['Text_processed'] = firstcovidtweets['Text_processed'].str.replace('\\d+', '')\n",
      "<ipython-input-385-dbcf3465dc46>:3: SettingWithCopyWarning: \n",
      "A value is trying to be set on a copy of a slice from a DataFrame.\n",
      "Try using .loc[row_indexer,col_indexer] = value instead\n",
      "\n",
      "See the caveats in the documentation: https://pandas.pydata.org/pandas-docs/stable/user_guide/indexing.html#returning-a-view-versus-a-copy\n",
      "  firstcovidtweets['Text_processed'] = firstcovidtweets['Text_processed'].str.replace('\\d+', '')\n",
      "<ipython-input-385-dbcf3465dc46>:4: SettingWithCopyWarning: \n",
      "A value is trying to be set on a copy of a slice from a DataFrame.\n",
      "Try using .loc[row_indexer,col_indexer] = value instead\n",
      "\n",
      "See the caveats in the documentation: https://pandas.pydata.org/pandas-docs/stable/user_guide/indexing.html#returning-a-view-versus-a-copy\n",
      "  firstcovidtweets['Text_processed'] = firstcovidtweets['Text_processed'].str.replace('https', '')\n",
      "<ipython-input-385-dbcf3465dc46>:5: SettingWithCopyWarning: \n",
      "A value is trying to be set on a copy of a slice from a DataFrame.\n",
      "Try using .loc[row_indexer,col_indexer] = value instead\n",
      "\n",
      "See the caveats in the documentation: https://pandas.pydata.org/pandas-docs/stable/user_guide/indexing.html#returning-a-view-versus-a-copy\n",
      "  firstcovidtweets['Text_processed'] = firstcovidtweets['Text_processed'].str.replace('tco', '')\n",
      "<ipython-input-385-dbcf3465dc46>:6: SettingWithCopyWarning: \n",
      "A value is trying to be set on a copy of a slice from a DataFrame.\n",
      "Try using .loc[row_indexer,col_indexer] = value instead\n",
      "\n",
      "See the caveats in the documentation: https://pandas.pydata.org/pandas-docs/stable/user_guide/indexing.html#returning-a-view-versus-a-copy\n",
      "  firstcovidtweets['Text_processed'] = firstcovidtweets['Text_processed'].str.replace('becca_oneal', '')\n",
      "<ipython-input-385-dbcf3465dc46>:7: SettingWithCopyWarning: \n",
      "A value is trying to be set on a copy of a slice from a DataFrame.\n",
      "Try using .loc[row_indexer,col_indexer] = value instead\n",
      "\n",
      "See the caveats in the documentation: https://pandas.pydata.org/pandas-docs/stable/user_guide/indexing.html#returning-a-view-versus-a-copy\n",
      "  firstcovidtweets['Text_processed'] = firstcovidtweets['Text_processed'].str.replace('rt', '')\n"
     ]
    },
    {
     "data": {
      "text/plain": [
       "['@tommypistol i have a friend who kept saying mankind could pull through a zombie apocalypse paicularly the walki… :///rcimomqcl',\n",
       " 'to help people become better prepared to withstand natural disasters and other unforeseen events — such as the covi… :///fybyql']"
      ]
     },
     "execution_count": 385,
     "metadata": {},
     "output_type": "execute_result"
    }
   ],
   "source": [
    "firstcovidtweets[\"Text_processed\"] = firstcovidtweets[\"Tweet\"].map(lambda x: re.sub('[,\\.!?]', '', x))\n",
    "firstcovidtweets[\"Text_processed\"] = firstcovidtweets[\"Text_processed\"].map(lambda x: x.lower())\n",
    "firstcovidtweets['Text_processed'] = firstcovidtweets['Text_processed'].str.replace('\\d+', '')\n",
    "firstcovidtweets['Text_processed'] = firstcovidtweets['Text_processed'].str.replace('https', '')\n",
    "firstcovidtweets['Text_processed'] = firstcovidtweets['Text_processed'].str.replace('tco', '')\n",
    "firstcovidtweets['Text_processed'] = firstcovidtweets['Text_processed'].str.replace('becca_oneal', '')\n",
    "firstcovidtweets['Text_processed'] = firstcovidtweets['Text_processed'].str.replace('rt', '')\n",
    "list(firstcovidtweets[0:2][\"Text_processed\"])"
   ]
  },
  {
   "cell_type": "code",
   "execution_count": 373,
   "id": "7df547ae",
   "metadata": {},
   "outputs": [],
   "source": [
    "long_string = ','.join(list(firstcovidtweets[\"Text_processed\"].values))\n",
    "#long_string"
   ]
  },
  {
   "cell_type": "markdown",
   "id": "6f7d219b",
   "metadata": {},
   "source": [
    "### Looking at word frequency for context"
   ]
  },
  {
   "cell_type": "code",
   "execution_count": 420,
   "id": "2e672c7e",
   "metadata": {},
   "outputs": [
    {
     "data": {
      "text/html": [
       "<div>\n",
       "<style scoped>\n",
       "    .dataframe tbody tr th:only-of-type {\n",
       "        vertical-align: middle;\n",
       "    }\n",
       "\n",
       "    .dataframe tbody tr th {\n",
       "        vertical-align: top;\n",
       "    }\n",
       "\n",
       "    .dataframe thead th {\n",
       "        text-align: right;\n",
       "    }\n",
       "</style>\n",
       "<table border=\"1\" class=\"dataframe\">\n",
       "  <thead>\n",
       "    <tr style=\"text-align: right;\">\n",
       "      <th></th>\n",
       "      <th>Word</th>\n",
       "      <th>Frequency</th>\n",
       "    </tr>\n",
       "  </thead>\n",
       "  <tbody>\n",
       "    <tr>\n",
       "      <th>0</th>\n",
       "      <td>zombie</td>\n",
       "      <td>47</td>\n",
       "    </tr>\n",
       "    <tr>\n",
       "      <th>1</th>\n",
       "      <td>apocalypse</td>\n",
       "      <td>39</td>\n",
       "    </tr>\n",
       "    <tr>\n",
       "      <th>2</th>\n",
       "      <td>covid</td>\n",
       "      <td>35</td>\n",
       "    </tr>\n",
       "    <tr>\n",
       "      <th>3</th>\n",
       "      <td>cdc</td>\n",
       "      <td>19</td>\n",
       "    </tr>\n",
       "    <tr>\n",
       "      <th>4</th>\n",
       "      <td>covid-</td>\n",
       "      <td>13</td>\n",
       "    </tr>\n",
       "    <tr>\n",
       "      <th>5</th>\n",
       "      <td>know</td>\n",
       "      <td>11</td>\n",
       "    </tr>\n",
       "    <tr>\n",
       "      <th>6</th>\n",
       "      <td>us</td>\n",
       "      <td>10</td>\n",
       "    </tr>\n",
       "    <tr>\n",
       "      <th>7</th>\n",
       "      <td>would</td>\n",
       "      <td>10</td>\n",
       "    </tr>\n",
       "    <tr>\n",
       "      <th>8</th>\n",
       "      <td>people</td>\n",
       "      <td>8</td>\n",
       "    </tr>\n",
       "    <tr>\n",
       "      <th>9</th>\n",
       "      <td>survive</td>\n",
       "      <td>8</td>\n",
       "    </tr>\n",
       "  </tbody>\n",
       "</table>\n",
       "</div>"
      ],
      "text/plain": [
       "         Word  Frequency\n",
       "0      zombie         47\n",
       "1  apocalypse         39\n",
       "2       covid         35\n",
       "3         cdc         19\n",
       "4      covid-         13\n",
       "5        know         11\n",
       "6          us         10\n",
       "7       would         10\n",
       "8      people          8\n",
       "9     survive          8"
      ]
     },
     "execution_count": 420,
     "metadata": {},
     "output_type": "execute_result"
    }
   ],
   "source": [
    "cz_tokens = long_string.split()\n",
    "stop = stopwords.words(\"english\")\n",
    "no_stops = [word for word in cz_tokens if word not in stopwords.words('english')]\n",
    "cz_df = pd.DataFrame(freq_cz.most_common(10), columns = [\"Word\", \"Frequency\"])\n",
    "cz_df"
   ]
  },
  {
   "cell_type": "code",
   "execution_count": 281,
   "id": "3cc5704c",
   "metadata": {
    "scrolled": false
   },
   "outputs": [],
   "source": [
    "vectorizer = CountVectorizer()\n",
    "vectorizer.fit(firstcovidtweets[\"Text_processed\"])\n",
    "vectorizer.vocabulary"
   ]
  },
  {
   "cell_type": "code",
   "execution_count": 282,
   "id": "bc93ca36",
   "metadata": {
    "scrolled": false
   },
   "outputs": [],
   "source": [
    "vector = vectorizer.transform(firstcovidtweets[\"Text_processed\"])"
   ]
  },
  {
   "cell_type": "code",
   "execution_count": 283,
   "id": "0d10215e",
   "metadata": {},
   "outputs": [
    {
     "data": {
      "text/plain": [
       "CountVectorizer(ngram_range=(1, 2), stop_words='english',\n",
       "                token_pattern='\\\\b\\\\w+\\\\b')"
      ]
     },
     "execution_count": 283,
     "metadata": {},
     "output_type": "execute_result"
    }
   ],
   "source": [
    "bigram_vectorizer = CountVectorizer(ngram_range = (1,2),\n",
    "                                    stop_words = \"english\",\n",
    "                                    token_pattern = r'\\b\\w+\\b', \n",
    "                                    min_df = 1)\n",
    "bigram_vectorizer"
   ]
  },
  {
   "cell_type": "code",
   "execution_count": 284,
   "id": "a0ec9534",
   "metadata": {
    "scrolled": true
   },
   "outputs": [
    {
     "data": {
      "text/html": [
       "<div>\n",
       "<style scoped>\n",
       "    .dataframe tbody tr th:only-of-type {\n",
       "        vertical-align: middle;\n",
       "    }\n",
       "\n",
       "    .dataframe tbody tr th {\n",
       "        vertical-align: top;\n",
       "    }\n",
       "\n",
       "    .dataframe thead th {\n",
       "        text-align: right;\n",
       "    }\n",
       "</style>\n",
       "<table border=\"1\" class=\"dataframe\">\n",
       "  <thead>\n",
       "    <tr style=\"text-align: right;\">\n",
       "      <th></th>\n",
       "      <th>Word</th>\n",
       "      <th>Frequency</th>\n",
       "    </tr>\n",
       "  </thead>\n",
       "  <tbody>\n",
       "    <tr>\n",
       "      <th>0</th>\n",
       "      <td>covid</td>\n",
       "      <td>52</td>\n",
       "    </tr>\n",
       "    <tr>\n",
       "      <th>1</th>\n",
       "      <td>zombie</td>\n",
       "      <td>47</td>\n",
       "    </tr>\n",
       "    <tr>\n",
       "      <th>2</th>\n",
       "      <td>apocalypse</td>\n",
       "      <td>42</td>\n",
       "    </tr>\n",
       "    <tr>\n",
       "      <th>3</th>\n",
       "      <td>zombie apocalypse</td>\n",
       "      <td>40</td>\n",
       "    </tr>\n",
       "    <tr>\n",
       "      <th>4</th>\n",
       "      <td>cdc</td>\n",
       "      <td>20</td>\n",
       "    </tr>\n",
       "    <tr>\n",
       "      <th>5</th>\n",
       "      <td>know</td>\n",
       "      <td>11</td>\n",
       "    </tr>\n",
       "    <tr>\n",
       "      <th>6</th>\n",
       "      <td>people</td>\n",
       "      <td>8</td>\n",
       "    </tr>\n",
       "    <tr>\n",
       "      <th>7</th>\n",
       "      <td>survive</td>\n",
       "      <td>8</td>\n",
       "    </tr>\n",
       "    <tr>\n",
       "      <th>8</th>\n",
       "      <td>zombies</td>\n",
       "      <td>8</td>\n",
       "    </tr>\n",
       "    <tr>\n",
       "      <th>9</th>\n",
       "      <td>m</td>\n",
       "      <td>7</td>\n",
       "    </tr>\n",
       "    <tr>\n",
       "      <th>10</th>\n",
       "      <td>just</td>\n",
       "      <td>7</td>\n",
       "    </tr>\n",
       "    <tr>\n",
       "      <th>11</th>\n",
       "      <td>government</td>\n",
       "      <td>7</td>\n",
       "    </tr>\n",
       "    <tr>\n",
       "      <th>12</th>\n",
       "      <td>know zombie</td>\n",
       "      <td>7</td>\n",
       "    </tr>\n",
       "    <tr>\n",
       "      <th>13</th>\n",
       "      <td>s</td>\n",
       "      <td>6</td>\n",
       "    </tr>\n",
       "    <tr>\n",
       "      <th>14</th>\n",
       "      <td>going</td>\n",
       "      <td>6</td>\n",
       "    </tr>\n",
       "  </tbody>\n",
       "</table>\n",
       "</div>"
      ],
      "text/plain": [
       "                 Word  Frequency\n",
       "0               covid         52\n",
       "1              zombie         47\n",
       "2          apocalypse         42\n",
       "3   zombie apocalypse         40\n",
       "4                 cdc         20\n",
       "5                know         11\n",
       "6              people          8\n",
       "7             survive          8\n",
       "8             zombies          8\n",
       "9                   m          7\n",
       "10               just          7\n",
       "11         government          7\n",
       "12        know zombie          7\n",
       "13                  s          6\n",
       "14              going          6"
      ]
     },
     "execution_count": 284,
     "metadata": {},
     "output_type": "execute_result"
    }
   ],
   "source": [
    "analyze = bigram_vectorizer.build_analyzer()\n",
    "vocab = analyze(long_string)\n",
    "freq = Counter(vocab)\n",
    "stop_df = pd.DataFrame(freq.most_common(15), columns = [\"Word\", \"Frequency\"])\n",
    "new_df = stop_df.drop([0,1,2,3])\n",
    "stop_df"
   ]
  },
  {
   "cell_type": "markdown",
   "id": "9b5814ec",
   "metadata": {},
   "source": [
    "## Wordcloud to get context"
   ]
  },
  {
   "cell_type": "markdown",
   "id": "d16c5282",
   "metadata": {},
   "source": [
    "### A lot about survival, cdc, and the government?"
   ]
  },
  {
   "cell_type": "code",
   "execution_count": 296,
   "id": "8eadfee8",
   "metadata": {
    "scrolled": true
   },
   "outputs": [
    {
     "data": {
      "image/png": "[encoded data removed]",
      "text/plain": [
       "<PIL.Image.Image image mode=RGB size=600x300 at 0x1ED11E99D30>"
      ]
     },
     "execution_count": 296,
     "metadata": {},
     "output_type": "execute_result"
    }
   ],
   "source": [
    "cloud = WordCloud(background_color = \"darkred\", \n",
    "                  max_words = 20, \n",
    "                  contour_width = 5, \n",
    "                  width = 600, height = 300, \n",
    "                  random_state = 5)\n",
    "cloud.generate(long_string)\n",
    "cloud.to_image()"
   ]
  },
  {
   "cell_type": "markdown",
   "id": "f6b4064a",
   "metadata": {},
   "source": [
    "## Doing the same with \"Vaccine and the zombie apocalypse\""
   ]
  },
  {
   "attachments": {
    "vacczomb.png": {
     "image/png": "[encoded data removed]"
    }
   },
   "cell_type": "markdown",
   "id": "f0ff4745",
   "metadata": {},
   "source": [
    "![vacczomb.png](attachment:vacczomb.png)"
   ]
  },
  {
   "cell_type": "markdown",
   "id": "2c271810",
   "metadata": {},
   "source": [
    "### Inspired by a later data analysis of Twitter data, but also, found interested in it from the previous wordcloud"
   ]
  },
  {
   "cell_type": "code",
   "execution_count": 428,
   "id": "73059464",
   "metadata": {
    "scrolled": false
   },
   "outputs": [],
   "source": [
    "search_words = \"Vaccine and the zombie apocalypse\"\n",
    "date_since = \"202103150000\"\n",
    "date_to = \"202103302359\"\n",
    "vac_twts=api.search_full_archive (environment_name='confused',query=search_words , fromDate=date_since, toDate=date_to, )\n",
    "#print(vac_twts)"
   ]
  },
  {
   "cell_type": "code",
   "execution_count": 393,
   "id": "5f4f7aac",
   "metadata": {},
   "outputs": [],
   "source": [
    "json_data = [r._json for r in vac_twts]\n",
    "\n",
    "vaczom = pd.json_normalize(json_data)\n",
    "#vaczom"
   ]
  },
  {
   "cell_type": "code",
   "execution_count": 394,
   "id": "44286b4d",
   "metadata": {},
   "outputs": [],
   "source": [
    "vaczom.rename(columns = {\"created_at\":\"Time\",\n",
    "                       \"text\":\"Tweet\"},\n",
    "            inplace = True)"
   ]
  },
  {
   "cell_type": "code",
   "execution_count": 395,
   "id": "f27cdf7d",
   "metadata": {},
   "outputs": [],
   "source": [
    "vaczom['Time'] = pd.to_datetime(vaczom['Time'])"
   ]
  },
  {
   "cell_type": "code",
   "execution_count": 396,
   "id": "ec56ab28",
   "metadata": {},
   "outputs": [],
   "source": [
    "vaczom=vaczom.iloc[:, [0,3]]"
   ]
  },
  {
   "cell_type": "code",
   "execution_count": 397,
   "id": "b820966b",
   "metadata": {},
   "outputs": [],
   "source": [
    "vaczom.to_csv(\"vaczom.csv\")"
   ]
  },
  {
   "cell_type": "code",
   "execution_count": 43,
   "id": "b5f87097",
   "metadata": {},
   "outputs": [
    {
     "data": {
      "text/html": [
       "<div>\n",
       "<style scoped>\n",
       "    .dataframe tbody tr th:only-of-type {\n",
       "        vertical-align: middle;\n",
       "    }\n",
       "\n",
       "    .dataframe tbody tr th {\n",
       "        vertical-align: top;\n",
       "    }\n",
       "\n",
       "    .dataframe thead th {\n",
       "        text-align: right;\n",
       "    }\n",
       "</style>\n",
       "<table border=\"1\" class=\"dataframe\">\n",
       "  <thead>\n",
       "    <tr style=\"text-align: right;\">\n",
       "      <th></th>\n",
       "      <th>Unnamed: 0</th>\n",
       "      <th>Time</th>\n",
       "      <th>Tweet</th>\n",
       "    </tr>\n",
       "  </thead>\n",
       "  <tbody>\n",
       "    <tr>\n",
       "      <th>0</th>\n",
       "      <td>0</td>\n",
       "      <td>2021-03-30 20:14:14+00:00</td>\n",
       "      <td>@adampv44 @notslimpug @lucinelupita2 @ComicDaveSmith After much thought, I decided that if this is the vaccine that… https://t.co/IsOU9VOqjZ</td>\n",
       "    </tr>\n",
       "    <tr>\n",
       "      <th>1</th>\n",
       "      <td>1</td>\n",
       "      <td>2021-03-30 16:07:31+00:00</td>\n",
       "      <td>@DialloKreed @Zozozoex @cruddydre_ I swear the zombie apocalypse could happen and they could release a vaccine for… https://t.co/QytYQFzJV4</td>\n",
       "    </tr>\n",
       "    <tr>\n",
       "      <th>2</th>\n",
       "      <td>2</td>\n",
       "      <td>2021-03-30 14:45:32+00:00</td>\n",
       "      <td>You could insert these vaccine news bits into any zombie apocalypse movie and then they would fit just fine but I d… https://t.co/TGmP0soi0A</td>\n",
       "    </tr>\n",
       "    <tr>\n",
       "      <th>3</th>\n",
       "      <td>3</td>\n",
       "      <td>2021-03-30 04:16:47+00:00</td>\n",
       "      <td>@resistnow51 @harrylitman A free America is dead isn't it.  You idiots act like this is the fucking zombie apocalyp… https://t.co/kIMWotGEem</td>\n",
       "    </tr>\n",
       "    <tr>\n",
       "      <th>4</th>\n",
       "      <td>4</td>\n",
       "      <td>2021-03-30 03:57:46+00:00</td>\n",
       "      <td>@ShekinahCanCook @DrZuhdiJasser OMG... the zombie apocalypse is coming.... guess you fell right into the success co… https://t.co/TVvOdeMI2t</td>\n",
       "    </tr>\n",
       "  </tbody>\n",
       "</table>\n",
       "</div>"
      ],
      "text/plain": [
       "   Unnamed: 0                       Time  \\\n",
       "0           0  2021-03-30 20:14:14+00:00   \n",
       "1           1  2021-03-30 16:07:31+00:00   \n",
       "2           2  2021-03-30 14:45:32+00:00   \n",
       "3           3  2021-03-30 04:16:47+00:00   \n",
       "4           4  2021-03-30 03:57:46+00:00   \n",
       "\n",
       "                                                                                                                                          Tweet  \n",
       "0  @adampv44 @notslimpug @lucinelupita2 @ComicDaveSmith After much thought, I decided that if this is the vaccine that… https://t.co/IsOU9VOqjZ  \n",
       "1   @DialloKreed @Zozozoex @cruddydre_ I swear the zombie apocalypse could happen and they could release a vaccine for… https://t.co/QytYQFzJV4  \n",
       "2  You could insert these vaccine news bits into any zombie apocalypse movie and then they would fit just fine but I d… https://t.co/TGmP0soi0A  \n",
       "3  @resistnow51 @harrylitman A free America is dead isn't it.  You idiots act like this is the fucking zombie apocalyp… https://t.co/kIMWotGEem  \n",
       "4  @ShekinahCanCook @DrZuhdiJasser OMG... the zombie apocalypse is coming.... guess you fell right into the success co… https://t.co/TVvOdeMI2t  "
      ]
     },
     "execution_count": 43,
     "metadata": {},
     "output_type": "execute_result"
    }
   ],
   "source": [
    "vaczom = pd.read_csv(\"vaczom.csv\")\n",
    "pd.set_option(\"display.max_colwidth\", None)\n",
    "vaczom.head(5)"
   ]
  },
  {
   "cell_type": "code",
   "execution_count": 402,
   "id": "1a1982e4",
   "metadata": {},
   "outputs": [
    {
     "name": "stderr",
     "output_type": "stream",
     "text": [
      "<ipython-input-402-be967a531d40>:3: FutureWarning: The default value of regex will change from True to False in a future version.\n",
      "  vaczom['Text_processed'] = vaczom['Text_processed'].str.replace('\\d+', '')\n"
     ]
    },
    {
     "data": {
      "text/plain": [
       "['@adampv @notslimpug @lucinelupita @comicdavesmith after much thought i decided that if this is the vaccine that… :///isouvoqjz',\n",
       " '@diallokreed @zozozoex @cruddydre_ i swear the zombie apocalypse could happen and they could release a vaccine for… :///qytyqfzjv']"
      ]
     },
     "execution_count": 402,
     "metadata": {},
     "output_type": "execute_result"
    }
   ],
   "source": [
    "vaczom[\"Text_processed\"] = vaczom[\"Tweet\"].map(lambda x: re.sub('[,\\.!?]', '', x))\n",
    "vaczom[\"Text_processed\"] = vaczom[\"Text_processed\"].map(lambda x: x.lower())\n",
    "vaczom['Text_processed'] = vaczom['Text_processed'].str.replace('\\d+', '')\n",
    "vaczom['Text_processed'] = vaczom['Text_processed'].str.replace('https', '')\n",
    "vaczom['Text_processed'] = vaczom['Text_processed'].str.replace('tco', '')\n",
    "vaczom['Text_processed'] = vaczom['Text_processed'].str.replace('rt', '')\n",
    "list(vaczom[0:2][\"Text_processed\"])"
   ]
  },
  {
   "cell_type": "code",
   "execution_count": 406,
   "id": "25e6a6f8",
   "metadata": {},
   "outputs": [],
   "source": [
    "long_string2 = ','.join(list(vaczom[\"Text_processed\"].values))\n",
    "#long_string2"
   ]
  },
  {
   "cell_type": "markdown",
   "id": "f9715799",
   "metadata": {},
   "source": [
    "### My second Wordcloud. More of cdc, but \"legend\" is interesting."
   ]
  },
  {
   "cell_type": "code",
   "execution_count": 434,
   "id": "ff543605",
   "metadata": {},
   "outputs": [
    {
     "data": {
      "image/png": "[encoded data removed]",
      "text/plain": [
       "<PIL.Image.Image image mode=RGB size=600x300 at 0x1ED25BCCFA0>"
      ]
     },
     "execution_count": 434,
     "metadata": {},
     "output_type": "execute_result"
    }
   ],
   "source": [
    "cloud = WordCloud(background_color = \"black\", \n",
    "                  max_words = 30, \n",
    "                  contour_width = 5, \n",
    "                  width = 600, height = 300, \n",
    "                  random_state = 5)\n",
    "cloud.generate(long_string2)\n",
    "cloud.to_image()"
   ]
  },
  {
   "cell_type": "markdown",
   "id": "c3861e3b",
   "metadata": {},
   "source": [
    "# Covid Tweets 07/24/2020 - 08/30/2020"
   ]
  },
  {
   "cell_type": "code",
   "execution_count": 14,
   "id": "7aac568f",
   "metadata": {},
   "outputs": [
    {
     "data": {
      "text/plain": [
       "'C:\\\\Users\\\\19092\\\\DIGHUM 100'"
      ]
     },
     "execution_count": 14,
     "metadata": {},
     "output_type": "execute_result"
    }
   ],
   "source": [
    "os.getcwd()"
   ]
  },
  {
   "cell_type": "code",
   "execution_count": 15,
   "id": "10fc526f",
   "metadata": {},
   "outputs": [
    {
     "name": "stdout",
     "output_type": "stream",
     "text": [
      " Volume in drive C is Windows\n",
      " Volume Serial Number is 9029-7BDB\n",
      "\n",
      " Directory of C:\\Users\\19092\\DIGHUM 100\n",
      "\n",
      "06/24/2021  02:35 PM    <DIR>          .\n",
      "06/24/2021  02:35 PM    <DIR>          ..\n",
      "06/24/2021  02:35 PM    <DIR>          .ipynb_checkpoints\n",
      "06/06/2021  01:22 PM        68,713,814 covid19_tweets.csv\n",
      "06/19/2021  01:47 PM                 0 covidtweets.txt\n",
      "06/24/2021  02:36 PM            12,729 firstofcoviddataset.csv\n",
      "06/10/2021  11:13 AM    <DIR>          Hm\n",
      "06/06/2021  11:56 AM         1,965,758 IMDB Horror movies.csv\n",
      "06/24/2021  02:24 PM             8,490 save_as_a_png.png\n",
      "06/24/2021  02:34 PM         1,150,684 StoryboardUpdate2.ipynb\n",
      "06/19/2021  04:13 PM            64,786 Updated StoryBoard.ipynb\n",
      "06/24/2021  02:20 PM        44,917,733 vaccination_all_tweets.csv\n",
      "06/19/2021  11:56 AM            52,015 zombie.jpg\n",
      "06/19/2021  12:02 PM            80,238 zombies2.jpg\n",
      "              10 File(s)    116,966,247 bytes\n",
      "               4 Dir(s)  12,711,157,760 bytes free\n"
     ]
    }
   ],
   "source": [
    "%ls"
   ]
  },
  {
   "cell_type": "markdown",
   "id": "fd30b651",
   "metadata": {},
   "source": [
    "### My COVID Tweets dataset from Kaggle (100,000+ Tweets)"
   ]
  },
  {
   "cell_type": "code",
   "execution_count": 20,
   "id": "30f7886d",
   "metadata": {},
   "outputs": [
    {
     "data": {
      "text/html": [
       "<div>\n",
       "<style scoped>\n",
       "    .dataframe tbody tr th:only-of-type {\n",
       "        vertical-align: middle;\n",
       "    }\n",
       "\n",
       "    .dataframe tbody tr th {\n",
       "        vertical-align: top;\n",
       "    }\n",
       "\n",
       "    .dataframe thead th {\n",
       "        text-align: right;\n",
       "    }\n",
       "</style>\n",
       "<table border=\"1\" class=\"dataframe\">\n",
       "  <thead>\n",
       "    <tr style=\"text-align: right;\">\n",
       "      <th></th>\n",
       "      <th>user_name</th>\n",
       "      <th>user_location</th>\n",
       "      <th>user_description</th>\n",
       "      <th>user_created</th>\n",
       "      <th>user_followers</th>\n",
       "      <th>user_friends</th>\n",
       "      <th>user_favourites</th>\n",
       "      <th>user_verified</th>\n",
       "      <th>date</th>\n",
       "      <th>text</th>\n",
       "      <th>hashtags</th>\n",
       "      <th>source</th>\n",
       "      <th>is_retweet</th>\n",
       "    </tr>\n",
       "  </thead>\n",
       "  <tbody>\n",
       "    <tr>\n",
       "      <th>0</th>\n",
       "      <td>ᏉᎥ☻լꂅϮ</td>\n",
       "      <td>astroworld</td>\n",
       "      <td>wednesday addams as a disney princess keepin i...</td>\n",
       "      <td>2017-05-26 05:46:42</td>\n",
       "      <td>624</td>\n",
       "      <td>950</td>\n",
       "      <td>18775</td>\n",
       "      <td>False</td>\n",
       "      <td>2020-07-25 12:27:21</td>\n",
       "      <td>If I smelled the scent of hand sanitizers toda...</td>\n",
       "      <td>NaN</td>\n",
       "      <td>Twitter for iPhone</td>\n",
       "      <td>False</td>\n",
       "    </tr>\n",
       "    <tr>\n",
       "      <th>1</th>\n",
       "      <td>Tom Basile 🇺🇸</td>\n",
       "      <td>New York, NY</td>\n",
       "      <td>Husband, Father, Columnist &amp; Commentator. Auth...</td>\n",
       "      <td>2009-04-16 20:06:23</td>\n",
       "      <td>2253</td>\n",
       "      <td>1677</td>\n",
       "      <td>24</td>\n",
       "      <td>True</td>\n",
       "      <td>2020-07-25 12:27:17</td>\n",
       "      <td>Hey @Yankees @YankeesPR and @MLB - wouldn't it...</td>\n",
       "      <td>NaN</td>\n",
       "      <td>Twitter for Android</td>\n",
       "      <td>False</td>\n",
       "    </tr>\n",
       "    <tr>\n",
       "      <th>2</th>\n",
       "      <td>Time4fisticuffs</td>\n",
       "      <td>Pewee Valley, KY</td>\n",
       "      <td>#Christian #Catholic #Conservative #Reagan #Re...</td>\n",
       "      <td>2009-02-28 18:57:41</td>\n",
       "      <td>9275</td>\n",
       "      <td>9525</td>\n",
       "      <td>7254</td>\n",
       "      <td>False</td>\n",
       "      <td>2020-07-25 12:27:14</td>\n",
       "      <td>@diane3443 @wdunlap @realDonaldTrump Trump nev...</td>\n",
       "      <td>['COVID19']</td>\n",
       "      <td>Twitter for Android</td>\n",
       "      <td>False</td>\n",
       "    </tr>\n",
       "    <tr>\n",
       "      <th>3</th>\n",
       "      <td>ethel mertz</td>\n",
       "      <td>Stuck in the Middle</td>\n",
       "      <td>#Browns #Indians #ClevelandProud #[]_[] #Cavs ...</td>\n",
       "      <td>2019-03-07 01:45:06</td>\n",
       "      <td>197</td>\n",
       "      <td>987</td>\n",
       "      <td>1488</td>\n",
       "      <td>False</td>\n",
       "      <td>2020-07-25 12:27:10</td>\n",
       "      <td>@brookbanktv The one gift #COVID19 has give me...</td>\n",
       "      <td>['COVID19']</td>\n",
       "      <td>Twitter for iPhone</td>\n",
       "      <td>False</td>\n",
       "    </tr>\n",
       "    <tr>\n",
       "      <th>4</th>\n",
       "      <td>DIPR-J&amp;K</td>\n",
       "      <td>Jammu and Kashmir</td>\n",
       "      <td>🖊️Official Twitter handle of Department of Inf...</td>\n",
       "      <td>2017-02-12 06:45:15</td>\n",
       "      <td>101009</td>\n",
       "      <td>168</td>\n",
       "      <td>101</td>\n",
       "      <td>False</td>\n",
       "      <td>2020-07-25 12:27:08</td>\n",
       "      <td>25 July : Media Bulletin on Novel #CoronaVirus...</td>\n",
       "      <td>['CoronaVirusUpdates', 'COVID19']</td>\n",
       "      <td>Twitter for Android</td>\n",
       "      <td>False</td>\n",
       "    </tr>\n",
       "  </tbody>\n",
       "</table>\n",
       "</div>"
      ],
      "text/plain": [
       "         user_name         user_location  \\\n",
       "0           ᏉᎥ☻լꂅϮ            astroworld   \n",
       "1    Tom Basile 🇺🇸          New York, NY   \n",
       "2  Time4fisticuffs      Pewee Valley, KY   \n",
       "3      ethel mertz  Stuck in the Middle    \n",
       "4         DIPR-J&K     Jammu and Kashmir   \n",
       "\n",
       "                                    user_description         user_created  \\\n",
       "0  wednesday addams as a disney princess keepin i...  2017-05-26 05:46:42   \n",
       "1  Husband, Father, Columnist & Commentator. Auth...  2009-04-16 20:06:23   \n",
       "2  #Christian #Catholic #Conservative #Reagan #Re...  2009-02-28 18:57:41   \n",
       "3  #Browns #Indians #ClevelandProud #[]_[] #Cavs ...  2019-03-07 01:45:06   \n",
       "4  🖊️Official Twitter handle of Department of Inf...  2017-02-12 06:45:15   \n",
       "\n",
       "   user_followers  user_friends  user_favourites  user_verified  \\\n",
       "0             624           950            18775          False   \n",
       "1            2253          1677               24           True   \n",
       "2            9275          9525             7254          False   \n",
       "3             197           987             1488          False   \n",
       "4          101009           168              101          False   \n",
       "\n",
       "                  date                                               text  \\\n",
       "0  2020-07-25 12:27:21  If I smelled the scent of hand sanitizers toda...   \n",
       "1  2020-07-25 12:27:17  Hey @Yankees @YankeesPR and @MLB - wouldn't it...   \n",
       "2  2020-07-25 12:27:14  @diane3443 @wdunlap @realDonaldTrump Trump nev...   \n",
       "3  2020-07-25 12:27:10  @brookbanktv The one gift #COVID19 has give me...   \n",
       "4  2020-07-25 12:27:08  25 July : Media Bulletin on Novel #CoronaVirus...   \n",
       "\n",
       "                            hashtags               source  is_retweet  \n",
       "0                                NaN   Twitter for iPhone       False  \n",
       "1                                NaN  Twitter for Android       False  \n",
       "2                        ['COVID19']  Twitter for Android       False  \n",
       "3                        ['COVID19']   Twitter for iPhone       False  \n",
       "4  ['CoronaVirusUpdates', 'COVID19']  Twitter for Android       False  "
      ]
     },
     "execution_count": 20,
     "metadata": {},
     "output_type": "execute_result"
    }
   ],
   "source": [
    "covtweets = pd.read_csv(\"covid19_tweets.csv\")\n",
    "\n",
    "covtweets.head(5)"
   ]
  },
  {
   "cell_type": "markdown",
   "id": "4dd8a12f",
   "metadata": {},
   "source": [
    "#### Getting unique Tweets"
   ]
  },
  {
   "cell_type": "code",
   "execution_count": 21,
   "id": "24eb02e6",
   "metadata": {},
   "outputs": [],
   "source": [
    "tdata = tweets.text.unique()"
   ]
  },
  {
   "cell_type": "code",
   "execution_count": 30,
   "id": "9e5c8585",
   "metadata": {},
   "outputs": [],
   "source": [
    "covtweets['date'] = pd.to_datetime(covtweets['date'])"
   ]
  },
  {
   "cell_type": "code",
   "execution_count": 57,
   "id": "55561bad",
   "metadata": {},
   "outputs": [
    {
     "data": {
      "text/plain": [
       "Timestamp('2020-08-30 09:07:39')"
      ]
     },
     "execution_count": 57,
     "metadata": {},
     "output_type": "execute_result"
    }
   ],
   "source": [
    "max(covtweets.date)"
   ]
  },
  {
   "cell_type": "code",
   "execution_count": 58,
   "id": "7f6c7c4a",
   "metadata": {},
   "outputs": [
    {
     "data": {
      "text/plain": [
       "Timestamp('2020-07-24 23:47:08')"
      ]
     },
     "execution_count": 58,
     "metadata": {},
     "output_type": "execute_result"
    }
   ],
   "source": [
    "min(covtweets.date)"
   ]
  },
  {
   "cell_type": "markdown",
   "id": "b1e9cff5",
   "metadata": {},
   "source": [
    "### Creation of my graph"
   ]
  },
  {
   "cell_type": "markdown",
   "id": "afac574f",
   "metadata": {},
   "source": [
    "#### - covid tweets that contain zombie \n",
    "#### - create and label plot\n",
    "#### - save figure"
   ]
  },
  {
   "cell_type": "code",
   "execution_count": 66,
   "id": "3aa65c33",
   "metadata": {},
   "outputs": [
    {
     "data": {
      "image/png": "[encoded data removed]",
      "text/plain": [
       "<Figure size 432x288 with 1 Axes>"
      ]
     },
     "metadata": {
      "needs_background": "light"
     },
     "output_type": "display_data"
    }
   ],
   "source": [
    "ct = covtweets[covtweets['text'].str.contains(\"zombie\")]\n",
    "sns.histplot(ct['date'], label='Zombie', color= 'green')\n",
    "plt.xlabel('date')\n",
    "plt.xticks(rotation=45)\n",
    "plt.title('Distribution of Tweets with \"Zombie\"')\n",
    "plt.savefig('save_as_a_png.png')"
   ]
  },
  {
   "cell_type": "code",
   "execution_count": 42,
   "id": "be6ed2c5",
   "metadata": {},
   "outputs": [
    {
     "data": {
      "text/plain": [
       "Text(0.5, 1.0, 'Distribution of Tweets with \"flu\"')"
      ]
     },
     "execution_count": 42,
     "metadata": {},
     "output_type": "execute_result"
    },
    {
     "data": {
      "image/png": "[encoded data removed]",
      "text/plain": [
       "<Figure size 432x288 with 1 Axes>"
      ]
     },
     "metadata": {
      "needs_background": "light"
     },
     "output_type": "display_data"
    }
   ],
   "source": [
    "flu = covtweets[covtweets['text'].str.contains(\"flu\")]\n",
    "sns.histplot(flu['date'], label='iPhone')\n",
    "plt.xlabel('date')\n",
    "plt.xticks(rotation=45)\n",
    "plt.title('Distribution of Tweets with \"flu\"')"
   ]
  },
  {
   "cell_type": "markdown",
   "id": "f142b5ce",
   "metadata": {},
   "source": [
    "### Unique tweets with Zombie and flu. \n",
    "#### 25x more 'flu' Tweets than 'zombie' Tweets"
   ]
  },
  {
   "cell_type": "code",
   "execution_count": 102,
   "id": "13096050",
   "metadata": {},
   "outputs": [
    {
     "data": {
      "text/plain": [
       "40"
      ]
     },
     "execution_count": 102,
     "metadata": {},
     "output_type": "execute_result"
    }
   ],
   "source": [
    "len([k for k in tdata if 'zombie' in k])"
   ]
  },
  {
   "cell_type": "code",
   "execution_count": 32,
   "id": "1a513dcf",
   "metadata": {},
   "outputs": [
    {
     "data": {
      "text/plain": [
       "982"
      ]
     },
     "execution_count": 32,
     "metadata": {},
     "output_type": "execute_result"
    }
   ],
   "source": [
    "len([k for k in tdata if 'flu' in k])"
   ]
  },
  {
   "cell_type": "markdown",
   "id": "89caa1b6",
   "metadata": {},
   "source": [
    "# Vaccine Tweets Analysis 12/12/2020 - 06/23/2021 (Also 100,000+ Tweets)\n",
    "\n",
    "### Did the same analysis here as I did with previous datasets"
   ]
  },
  {
   "cell_type": "code",
   "execution_count": 43,
   "id": "33921ba7",
   "metadata": {},
   "outputs": [
    {
     "data": {
      "text/html": [
       "<div>\n",
       "<style scoped>\n",
       "    .dataframe tbody tr th:only-of-type {\n",
       "        vertical-align: middle;\n",
       "    }\n",
       "\n",
       "    .dataframe tbody tr th {\n",
       "        vertical-align: top;\n",
       "    }\n",
       "\n",
       "    .dataframe thead th {\n",
       "        text-align: right;\n",
       "    }\n",
       "</style>\n",
       "<table border=\"1\" class=\"dataframe\">\n",
       "  <thead>\n",
       "    <tr style=\"text-align: right;\">\n",
       "      <th></th>\n",
       "      <th>id</th>\n",
       "      <th>user_name</th>\n",
       "      <th>user_location</th>\n",
       "      <th>user_description</th>\n",
       "      <th>user_created</th>\n",
       "      <th>user_followers</th>\n",
       "      <th>user_friends</th>\n",
       "      <th>user_favourites</th>\n",
       "      <th>user_verified</th>\n",
       "      <th>date</th>\n",
       "      <th>text</th>\n",
       "      <th>hashtags</th>\n",
       "      <th>source</th>\n",
       "      <th>retweets</th>\n",
       "      <th>favorites</th>\n",
       "      <th>is_retweet</th>\n",
       "    </tr>\n",
       "  </thead>\n",
       "  <tbody>\n",
       "    <tr>\n",
       "      <th>0</th>\n",
       "      <td>1340539111971516416</td>\n",
       "      <td>Rachel Roh</td>\n",
       "      <td>La Crescenta-Montrose, CA</td>\n",
       "      <td>Aggregator of Asian American news; scanning di...</td>\n",
       "      <td>2009-04-08 17:52:46</td>\n",
       "      <td>405</td>\n",
       "      <td>1692</td>\n",
       "      <td>3247</td>\n",
       "      <td>False</td>\n",
       "      <td>2020-12-20 06:06:44</td>\n",
       "      <td>Same folks said daikon paste could treat a cyt...</td>\n",
       "      <td>['PfizerBioNTech']</td>\n",
       "      <td>Twitter for Android</td>\n",
       "      <td>0</td>\n",
       "      <td>0</td>\n",
       "      <td>False</td>\n",
       "    </tr>\n",
       "    <tr>\n",
       "      <th>1</th>\n",
       "      <td>1338158543359250433</td>\n",
       "      <td>Albert Fong</td>\n",
       "      <td>San Francisco, CA</td>\n",
       "      <td>Marketing dude, tech geek, heavy metal &amp; '80s ...</td>\n",
       "      <td>2009-09-21 15:27:30</td>\n",
       "      <td>834</td>\n",
       "      <td>666</td>\n",
       "      <td>178</td>\n",
       "      <td>False</td>\n",
       "      <td>2020-12-13 16:27:13</td>\n",
       "      <td>While the world has been on the wrong side of ...</td>\n",
       "      <td>NaN</td>\n",
       "      <td>Twitter Web App</td>\n",
       "      <td>1</td>\n",
       "      <td>1</td>\n",
       "      <td>False</td>\n",
       "    </tr>\n",
       "    <tr>\n",
       "      <th>2</th>\n",
       "      <td>1337858199140118533</td>\n",
       "      <td>eli🇱🇹🇪🇺👌</td>\n",
       "      <td>Your Bed</td>\n",
       "      <td>heil, hydra 🖐☺</td>\n",
       "      <td>2020-06-25 23:30:28</td>\n",
       "      <td>10</td>\n",
       "      <td>88</td>\n",
       "      <td>155</td>\n",
       "      <td>False</td>\n",
       "      <td>2020-12-12 20:33:45</td>\n",
       "      <td>#coronavirus #SputnikV #AstraZeneca #PfizerBio...</td>\n",
       "      <td>['coronavirus', 'SputnikV', 'AstraZeneca', 'Pf...</td>\n",
       "      <td>Twitter for Android</td>\n",
       "      <td>0</td>\n",
       "      <td>0</td>\n",
       "      <td>False</td>\n",
       "    </tr>\n",
       "    <tr>\n",
       "      <th>3</th>\n",
       "      <td>1337855739918835717</td>\n",
       "      <td>Charles Adler</td>\n",
       "      <td>Vancouver, BC - Canada</td>\n",
       "      <td>Hosting \"CharlesAdlerTonight\" Global News Radi...</td>\n",
       "      <td>2008-09-10 11:28:53</td>\n",
       "      <td>49165</td>\n",
       "      <td>3933</td>\n",
       "      <td>21853</td>\n",
       "      <td>True</td>\n",
       "      <td>2020-12-12 20:23:59</td>\n",
       "      <td>Facts are immutable, Senator, even when you're...</td>\n",
       "      <td>NaN</td>\n",
       "      <td>Twitter Web App</td>\n",
       "      <td>446</td>\n",
       "      <td>2129</td>\n",
       "      <td>False</td>\n",
       "    </tr>\n",
       "    <tr>\n",
       "      <th>4</th>\n",
       "      <td>1337854064604966912</td>\n",
       "      <td>Citizen News Channel</td>\n",
       "      <td>NaN</td>\n",
       "      <td>Citizen News Channel bringing you an alternati...</td>\n",
       "      <td>2020-04-23 17:58:42</td>\n",
       "      <td>152</td>\n",
       "      <td>580</td>\n",
       "      <td>1473</td>\n",
       "      <td>False</td>\n",
       "      <td>2020-12-12 20:17:19</td>\n",
       "      <td>Explain to me again why we need a vaccine @Bor...</td>\n",
       "      <td>['whereareallthesickpeople', 'PfizerBioNTech']</td>\n",
       "      <td>Twitter for iPhone</td>\n",
       "      <td>0</td>\n",
       "      <td>0</td>\n",
       "      <td>False</td>\n",
       "    </tr>\n",
       "  </tbody>\n",
       "</table>\n",
       "</div>"
      ],
      "text/plain": [
       "                    id             user_name              user_location  \\\n",
       "0  1340539111971516416            Rachel Roh  La Crescenta-Montrose, CA   \n",
       "1  1338158543359250433           Albert Fong          San Francisco, CA   \n",
       "2  1337858199140118533              eli🇱🇹🇪🇺👌                   Your Bed   \n",
       "3  1337855739918835717         Charles Adler     Vancouver, BC - Canada   \n",
       "4  1337854064604966912  Citizen News Channel                        NaN   \n",
       "\n",
       "                                    user_description         user_created  \\\n",
       "0  Aggregator of Asian American news; scanning di...  2009-04-08 17:52:46   \n",
       "1  Marketing dude, tech geek, heavy metal & '80s ...  2009-09-21 15:27:30   \n",
       "2                                     heil, hydra 🖐☺  2020-06-25 23:30:28   \n",
       "3  Hosting \"CharlesAdlerTonight\" Global News Radi...  2008-09-10 11:28:53   \n",
       "4  Citizen News Channel bringing you an alternati...  2020-04-23 17:58:42   \n",
       "\n",
       "   user_followers  user_friends  user_favourites  user_verified  \\\n",
       "0             405          1692             3247          False   \n",
       "1             834           666              178          False   \n",
       "2              10            88              155          False   \n",
       "3           49165          3933            21853           True   \n",
       "4             152           580             1473          False   \n",
       "\n",
       "                  date                                               text  \\\n",
       "0  2020-12-20 06:06:44  Same folks said daikon paste could treat a cyt...   \n",
       "1  2020-12-13 16:27:13  While the world has been on the wrong side of ...   \n",
       "2  2020-12-12 20:33:45  #coronavirus #SputnikV #AstraZeneca #PfizerBio...   \n",
       "3  2020-12-12 20:23:59  Facts are immutable, Senator, even when you're...   \n",
       "4  2020-12-12 20:17:19  Explain to me again why we need a vaccine @Bor...   \n",
       "\n",
       "                                            hashtags               source  \\\n",
       "0                                 ['PfizerBioNTech']  Twitter for Android   \n",
       "1                                                NaN      Twitter Web App   \n",
       "2  ['coronavirus', 'SputnikV', 'AstraZeneca', 'Pf...  Twitter for Android   \n",
       "3                                                NaN      Twitter Web App   \n",
       "4     ['whereareallthesickpeople', 'PfizerBioNTech']   Twitter for iPhone   \n",
       "\n",
       "   retweets  favorites  is_retweet  \n",
       "0         0          0       False  \n",
       "1         1          1       False  \n",
       "2         0          0       False  \n",
       "3       446       2129       False  \n",
       "4         0          0       False  "
      ]
     },
     "execution_count": 43,
     "metadata": {},
     "output_type": "execute_result"
    }
   ],
   "source": [
    "vactweets = pd.read_csv(\"vaccination_all_tweets.csv\")\n",
    "\n",
    "vactweets.head(5)"
   ]
  },
  {
   "cell_type": "code",
   "execution_count": 166,
   "id": "9a7d4ea5",
   "metadata": {},
   "outputs": [
    {
     "data": {
      "text/plain": [
       "(112675, 16)"
      ]
     },
     "execution_count": 166,
     "metadata": {},
     "output_type": "execute_result"
    }
   ],
   "source": [
    "vactweets.shape"
   ]
  },
  {
   "cell_type": "code",
   "execution_count": 52,
   "id": "d375a410",
   "metadata": {},
   "outputs": [],
   "source": [
    "vacdata = vactweets.text.unique()"
   ]
  },
  {
   "cell_type": "code",
   "execution_count": 53,
   "id": "3ad91888",
   "metadata": {},
   "outputs": [],
   "source": [
    "vactweets['date'] = pd.to_datetime(vactweets['date'])"
   ]
  },
  {
   "cell_type": "code",
   "execution_count": 59,
   "id": "5143e193",
   "metadata": {},
   "outputs": [
    {
     "data": {
      "text/plain": [
       "Timestamp('2021-06-23 19:20:59')"
      ]
     },
     "execution_count": 59,
     "metadata": {},
     "output_type": "execute_result"
    }
   ],
   "source": [
    "max(vactweets.date)"
   ]
  },
  {
   "cell_type": "code",
   "execution_count": 60,
   "id": "9f2e1813",
   "metadata": {},
   "outputs": [
    {
     "data": {
      "text/plain": [
       "Timestamp('2020-12-12 11:55:28')"
      ]
     },
     "execution_count": 60,
     "metadata": {},
     "output_type": "execute_result"
    }
   ],
   "source": [
    "min(vactweets.date)"
   ]
  },
  {
   "cell_type": "markdown",
   "id": "d42295f5",
   "metadata": {},
   "source": [
    "### Inspiration for my \"Vaccine and the Zombie Apocalypse\" wordcloud"
   ]
  },
  {
   "cell_type": "code",
   "execution_count": 68,
   "id": "c5107c33",
   "metadata": {},
   "outputs": [
    {
     "data": {
      "text/plain": [
       "Text(0.5, 1.0, 'Distribution of Vaccine Tweets with \"Zombie\"')"
      ]
     },
     "execution_count": 68,
     "metadata": {},
     "output_type": "execute_result"
    },
    {
     "data": {
      "image/png": "[encoded data removed]",
      "text/plain": [
       "<Figure size 432x288 with 1 Axes>"
      ]
     },
     "metadata": {
      "needs_background": "light"
     },
     "output_type": "display_data"
    }
   ],
   "source": [
    "vt = vactweets[vactweets['text'].str.contains(\"zombie\")]\n",
    "sns.histplot(vt['date'], label='Zombie', color='green')\n",
    "plt.xlabel('date')\n",
    "plt.xticks(rotation=45)\n",
    "plt.title('Distribution of Vaccine Tweets with \"Zombie\"')"
   ]
  },
  {
   "cell_type": "code",
   "execution_count": 63,
   "id": "50d7057e",
   "metadata": {},
   "outputs": [
    {
     "data": {
      "text/plain": [
       "31"
      ]
     },
     "execution_count": 63,
     "metadata": {},
     "output_type": "execute_result"
    }
   ],
   "source": [
    "len([k for k in vacdata if 'zombie' in k ])"
   ]
  },
  {
   "cell_type": "code",
   "execution_count": 61,
   "id": "8374001e",
   "metadata": {},
   "outputs": [
    {
     "data": {
      "text/plain": [
       "Text(0.5, 1.0, 'Distribution of Vaccine Tweets with \"flu\"')"
      ]
     },
     "execution_count": 61,
     "metadata": {},
     "output_type": "execute_result"
    },
    {
     "data": {
      "image/png": "[encoded data removed]",
      "text/plain": [
       "<Figure size 432x288 with 1 Axes>"
      ]
     },
     "metadata": {
      "needs_background": "light"
     },
     "output_type": "display_data"
    }
   ],
   "source": [
    "vtf = vactweets[vactweets['text'].str.contains(\"flu\")]\n",
    "sns.histplot(vtf['date'], label='flu')\n",
    "plt.xlabel('date')\n",
    "plt.xticks(rotation=45)\n",
    "plt.title('Distribution of Vaccine Tweets with \"flu\"')"
   ]
  },
  {
   "cell_type": "code",
   "execution_count": 64,
   "id": "8c2ad1b1",
   "metadata": {},
   "outputs": [
    {
     "data": {
      "text/plain": [
       "339"
      ]
     },
     "execution_count": 64,
     "metadata": {},
     "output_type": "execute_result"
    }
   ],
   "source": [
    "len([k for k in vacdata if 'flu' in k ])"
   ]
  },
  {
   "cell_type": "markdown",
   "id": "00b7edf4",
   "metadata": {},
   "source": [
    "#### Did this with vampire to see if results were a coincidence of not"
   ]
  },
  {
   "cell_type": "code",
   "execution_count": 121,
   "id": "40f7f571",
   "metadata": {},
   "outputs": [
    {
     "data": {
      "text/plain": [
       "Text(0.5, 1.0, 'Distribution of Vaccine Tweets with \"vampire\"')"
      ]
     },
     "execution_count": 121,
     "metadata": {},
     "output_type": "execute_result"
    },
    {
     "data": {
      "image/png": "[encoded data removed]",
      "text/plain": [
       "<Figure size 432x288 with 1 Axes>"
      ]
     },
     "metadata": {
      "needs_background": "light"
     },
     "output_type": "display_data"
    }
   ],
   "source": [
    "fun = vactweets[vactweets['text'].str.contains(\"vampire\")]\n",
    "sns.histplot(fun['date'], label='vampire', color = 'red')\n",
    "plt.xlabel('date')\n",
    "plt.xticks(rotation=45)\n",
    "plt.title('Distribution of Vaccine Tweets with \"vampire\"')"
   ]
  },
  {
   "cell_type": "code",
   "execution_count": 65,
   "id": "b2050142",
   "metadata": {
    "scrolled": false
   },
   "outputs": [
    {
     "data": {
      "text/plain": [
       "1"
      ]
     },
     "execution_count": 65,
     "metadata": {},
     "output_type": "execute_result"
    }
   ],
   "source": [
    "len([k for k in vacdata if 'vampire' in k ])"
   ]
  },
  {
   "cell_type": "markdown",
   "id": "10ba236e",
   "metadata": {},
   "source": [
    "# IMDB Analysis"
   ]
  },
  {
   "cell_type": "markdown",
   "id": "08672fd6",
   "metadata": {},
   "source": [
    "## Inspiration from Google Ngram, crazy peak in popularity in literature in the 2000s"
   ]
  },
  {
   "attachments": {
    "ngramss.png": {
     "image/png": "[encoded data removed]"
    }
   },
   "cell_type": "markdown",
   "id": "64ec8abc",
   "metadata": {},
   "source": [
    "![ngramss.png](attachment:ngramss.png)"
   ]
  },
  {
   "cell_type": "markdown",
   "id": "11ad4fef",
   "metadata": {},
   "source": [
    "## Popular horror movies from 2012- Halloween 2017"
   ]
  },
  {
   "cell_type": "markdown",
   "id": "5cbac0b0",
   "metadata": {},
   "source": [
    "### Are zombies popular enough to have influence??"
   ]
  },
  {
   "cell_type": "code",
   "execution_count": 70,
   "id": "ce437bc4",
   "metadata": {},
   "outputs": [
    {
     "data": {
      "text/html": [
       "<div>\n",
       "<style scoped>\n",
       "    .dataframe tbody tr th:only-of-type {\n",
       "        vertical-align: middle;\n",
       "    }\n",
       "\n",
       "    .dataframe tbody tr th {\n",
       "        vertical-align: top;\n",
       "    }\n",
       "\n",
       "    .dataframe thead th {\n",
       "        text-align: right;\n",
       "    }\n",
       "</style>\n",
       "<table border=\"1\" class=\"dataframe\">\n",
       "  <thead>\n",
       "    <tr style=\"text-align: right;\">\n",
       "      <th></th>\n",
       "      <th>Title</th>\n",
       "      <th>Genres</th>\n",
       "      <th>Release Date</th>\n",
       "      <th>Release Country</th>\n",
       "      <th>Movie Rating</th>\n",
       "      <th>Review Rating</th>\n",
       "      <th>Movie Run Time</th>\n",
       "      <th>Plot</th>\n",
       "      <th>Cast</th>\n",
       "      <th>Language</th>\n",
       "      <th>Filming Locations</th>\n",
       "      <th>Budget</th>\n",
       "    </tr>\n",
       "  </thead>\n",
       "  <tbody>\n",
       "    <tr>\n",
       "      <th>0</th>\n",
       "      <td>Gut (2012)</td>\n",
       "      <td>Drama| Horror| Thriller</td>\n",
       "      <td>26-Oct-12</td>\n",
       "      <td>USA</td>\n",
       "      <td>NaN</td>\n",
       "      <td>3.9</td>\n",
       "      <td>91 min</td>\n",
       "      <td>Directed by Elias. With Jason Vail, Nicholas W...</td>\n",
       "      <td>Jason Vail|Nicholas Wilder|Sarah Schoofs|Kirst...</td>\n",
       "      <td>English</td>\n",
       "      <td>New York, USA</td>\n",
       "      <td>NaN</td>\n",
       "    </tr>\n",
       "    <tr>\n",
       "      <th>1</th>\n",
       "      <td>The Haunting of Mia Moss (2017)</td>\n",
       "      <td>Horror</td>\n",
       "      <td>13-Jan-17</td>\n",
       "      <td>USA</td>\n",
       "      <td>NaN</td>\n",
       "      <td>NaN</td>\n",
       "      <td>NaN</td>\n",
       "      <td>Directed by Jake Zelch. With Nicola Fiore, Bri...</td>\n",
       "      <td>Nicola Fiore|Brinke Stevens|Curtis Carnahan|Ja...</td>\n",
       "      <td>English</td>\n",
       "      <td>NaN</td>\n",
       "      <td>$30,000</td>\n",
       "    </tr>\n",
       "    <tr>\n",
       "      <th>2</th>\n",
       "      <td>Sleepwalking (2017)</td>\n",
       "      <td>Horror</td>\n",
       "      <td>21-Oct-17</td>\n",
       "      <td>Canada</td>\n",
       "      <td>NaN</td>\n",
       "      <td>NaN</td>\n",
       "      <td>NaN</td>\n",
       "      <td>Directed by David Briggs. With Alysia Topol, A...</td>\n",
       "      <td>Alysia Topol|Anthony Makela|Kelsi Ashley|Patri...</td>\n",
       "      <td>English</td>\n",
       "      <td>Sudbury, Ontario, Canada</td>\n",
       "      <td>NaN</td>\n",
       "    </tr>\n",
       "    <tr>\n",
       "      <th>3</th>\n",
       "      <td>Treasure Chest of Horrors II (2013)</td>\n",
       "      <td>Comedy| Horror| Thriller</td>\n",
       "      <td>23-Apr-13</td>\n",
       "      <td>USA</td>\n",
       "      <td>NOT RATED</td>\n",
       "      <td>3.7</td>\n",
       "      <td>82 min</td>\n",
       "      <td>Directed by M. Kelley, Shawn C. Phillips, Alex...</td>\n",
       "      <td>Veronica Ricci|Nicholas Adam Clark|James Culle...</td>\n",
       "      <td>English</td>\n",
       "      <td>Baltimore, Maryland, USA</td>\n",
       "      <td>NaN</td>\n",
       "    </tr>\n",
       "    <tr>\n",
       "      <th>4</th>\n",
       "      <td>Infidus (2015)</td>\n",
       "      <td>Crime| Drama| Horror</td>\n",
       "      <td>10-Apr-15</td>\n",
       "      <td>USA</td>\n",
       "      <td>NaN</td>\n",
       "      <td>5.8</td>\n",
       "      <td>80 min</td>\n",
       "      <td>Directed by Giulio De Santi. With Bonini Mino,...</td>\n",
       "      <td>Bonini Mino|Massimo Caratelli|Maurizio Zaffino...</td>\n",
       "      <td>Italian</td>\n",
       "      <td>NaN</td>\n",
       "      <td>NaN</td>\n",
       "    </tr>\n",
       "  </tbody>\n",
       "</table>\n",
       "</div>"
      ],
      "text/plain": [
       "                                 Title                     Genres  \\\n",
       "0                           Gut (2012)    Drama| Horror| Thriller   \n",
       "1      The Haunting of Mia Moss (2017)                     Horror   \n",
       "2                  Sleepwalking (2017)                     Horror   \n",
       "3  Treasure Chest of Horrors II (2013)   Comedy| Horror| Thriller   \n",
       "4                       Infidus (2015)       Crime| Drama| Horror   \n",
       "\n",
       "  Release Date Release Country Movie Rating  Review Rating Movie Run Time  \\\n",
       "0    26-Oct-12             USA          NaN            3.9         91 min   \n",
       "1    13-Jan-17             USA          NaN            NaN            NaN   \n",
       "2    21-Oct-17          Canada          NaN            NaN            NaN   \n",
       "3    23-Apr-13             USA    NOT RATED            3.7         82 min   \n",
       "4    10-Apr-15             USA          NaN            5.8         80 min   \n",
       "\n",
       "                                                Plot  \\\n",
       "0  Directed by Elias. With Jason Vail, Nicholas W...   \n",
       "1  Directed by Jake Zelch. With Nicola Fiore, Bri...   \n",
       "2  Directed by David Briggs. With Alysia Topol, A...   \n",
       "3  Directed by M. Kelley, Shawn C. Phillips, Alex...   \n",
       "4  Directed by Giulio De Santi. With Bonini Mino,...   \n",
       "\n",
       "                                                Cast Language  \\\n",
       "0  Jason Vail|Nicholas Wilder|Sarah Schoofs|Kirst...  English   \n",
       "1  Nicola Fiore|Brinke Stevens|Curtis Carnahan|Ja...  English   \n",
       "2  Alysia Topol|Anthony Makela|Kelsi Ashley|Patri...  English   \n",
       "3  Veronica Ricci|Nicholas Adam Clark|James Culle...  English   \n",
       "4  Bonini Mino|Massimo Caratelli|Maurizio Zaffino...  Italian   \n",
       "\n",
       "          Filming Locations    Budget  \n",
       "0             New York, USA       NaN  \n",
       "1                       NaN  $30,000   \n",
       "2  Sudbury, Ontario, Canada       NaN  \n",
       "3  Baltimore, Maryland, USA       NaN  \n",
       "4                       NaN       NaN  "
      ]
     },
     "execution_count": 70,
     "metadata": {},
     "output_type": "execute_result"
    }
   ],
   "source": [
    "IMDB = pd.read_csv(\"IMDB Horror movies.csv\")\n",
    "\n",
    "IMDB.head(5)"
   ]
  },
  {
   "cell_type": "code",
   "execution_count": 299,
   "id": "95493677",
   "metadata": {},
   "outputs": [
    {
     "name": "stdout",
     "output_type": "stream",
     "text": [
      "(3328, 12)\n"
     ]
    }
   ],
   "source": [
    "print(IMDB.shape)"
   ]
  },
  {
   "cell_type": "code",
   "execution_count": 91,
   "id": "e4f1503f",
   "metadata": {},
   "outputs": [],
   "source": [
    "IMDB['Release Date'] = pd.to_datetime(IMDB['Release Date'])"
   ]
  },
  {
   "cell_type": "code",
   "execution_count": 159,
   "id": "997cdc26",
   "metadata": {},
   "outputs": [
    {
     "data": {
      "text/plain": [
       "Timestamp('2017-10-31 00:00:00')"
      ]
     },
     "execution_count": 159,
     "metadata": {},
     "output_type": "execute_result"
    }
   ],
   "source": [
    "max(IMDB['Release Date'])"
   ]
  },
  {
   "cell_type": "code",
   "execution_count": 160,
   "id": "73e1394e",
   "metadata": {},
   "outputs": [
    {
     "data": {
      "text/plain": [
       "Timestamp('2012-01-01 00:00:00')"
      ]
     },
     "execution_count": 160,
     "metadata": {},
     "output_type": "execute_result"
    }
   ],
   "source": [
    "min(IMDB['Release Date'])"
   ]
  },
  {
   "cell_type": "markdown",
   "id": "8bf7696f",
   "metadata": {},
   "source": [
    "### Movies released with plot that has zombies in it during this timeline"
   ]
  },
  {
   "cell_type": "code",
   "execution_count": 156,
   "id": "78255c21",
   "metadata": {
    "scrolled": false
   },
   "outputs": [],
   "source": [
    "IMDBzombies = IMDB.loc[IMDB['Plot'].str.contains(\"zombie\", na=False)]"
   ]
  },
  {
   "cell_type": "code",
   "execution_count": 171,
   "id": "79e56af5",
   "metadata": {
    "scrolled": true
   },
   "outputs": [
    {
     "data": {
      "text/plain": [
       "<AxesSubplot:xlabel='Release Date', ylabel='Count'>"
      ]
     },
     "execution_count": 171,
     "metadata": {},
     "output_type": "execute_result"
    },
    {
     "data": {
      "image/png": "[encoded data removed]",
      "text/plain": [
       "<Figure size 432x288 with 1 Axes>"
      ]
     },
     "metadata": {
      "needs_background": "light"
     },
     "output_type": "display_data"
    }
   ],
   "source": [
    "sns.histplot(IMDBzombies['Release Date'], label='zombie', bins=6, color = 'green')"
   ]
  },
  {
   "cell_type": "markdown",
   "id": "04544ae9",
   "metadata": {},
   "source": [
    "### Horror movies released in general"
   ]
  },
  {
   "cell_type": "code",
   "execution_count": 172,
   "id": "c0fc5eff",
   "metadata": {},
   "outputs": [
    {
     "data": {
      "text/plain": [
       "<AxesSubplot:xlabel='Release Date', ylabel='Count'>"
      ]
     },
     "execution_count": 172,
     "metadata": {},
     "output_type": "execute_result"
    },
    {
     "data": {
      "image/png": "[encoded data removed]",
      "text/plain": [
       "<Figure size 432x288 with 1 Axes>"
      ]
     },
     "metadata": {
      "needs_background": "light"
     },
     "output_type": "display_data"
    }
   ],
   "source": [
    "sns.histplot(IMDB['Release Date'], label='count',bins = 6, color = 'blue')"
   ]
  },
  {
   "cell_type": "markdown",
   "id": "774b8dfc",
   "metadata": {},
   "source": [
    "### Another creation of a dataframe!"
   ]
  },
  {
   "cell_type": "code",
   "execution_count": 145,
   "id": "8a120f21",
   "metadata": {},
   "outputs": [
    {
     "data": {
      "text/plain": [
       "False    3197\n",
       "True      130\n",
       "Name: Plot, dtype: int64"
      ]
     },
     "execution_count": 145,
     "metadata": {},
     "output_type": "execute_result"
    }
   ],
   "source": [
    "zombiecounts = IMDB['Plot'].str.contains(\"zombie\").value_counts()\n",
    "zombiecounts"
   ]
  },
  {
   "cell_type": "code",
   "execution_count": 157,
   "id": "8e279a60",
   "metadata": {},
   "outputs": [
    {
     "data": {
      "text/plain": [
       "False    3255\n",
       "True       72\n",
       "Name: Plot, dtype: int64"
      ]
     },
     "execution_count": 157,
     "metadata": {},
     "output_type": "execute_result"
    }
   ],
   "source": [
    "vampirecounts = IMDB['Plot'].str.contains(\"vampire\").value_counts()\n",
    "vampirecounts"
   ]
  },
  {
   "cell_type": "code",
   "execution_count": 147,
   "id": "8b38a087",
   "metadata": {},
   "outputs": [
    {
     "data": {
      "text/plain": [
       "False    3323\n",
       "True        4\n",
       "Name: Plot, dtype: int64"
      ]
     },
     "execution_count": 147,
     "metadata": {},
     "output_type": "execute_result"
    }
   ],
   "source": [
    "mummycounts = IMDB['Plot'].str.contains(\"mummy\").value_counts()\n",
    "mummycounts"
   ]
  },
  {
   "cell_type": "code",
   "execution_count": 149,
   "id": "dfb044db",
   "metadata": {},
   "outputs": [
    {
     "data": {
      "text/plain": [
       "False    3317\n",
       "True       10\n",
       "Name: Plot, dtype: int64"
      ]
     },
     "execution_count": 149,
     "metadata": {},
     "output_type": "execute_result"
    }
   ],
   "source": [
    "werewolfcounts = IMDB['Plot'].str.contains(\"werewolf\").value_counts()\n",
    "werewolfcounts"
   ]
  },
  {
   "cell_type": "code",
   "execution_count": 150,
   "id": "ab688f46",
   "metadata": {},
   "outputs": [
    {
     "data": {
      "text/plain": [
       "False    3259\n",
       "True       68\n",
       "Name: Plot, dtype: int64"
      ]
     },
     "execution_count": 150,
     "metadata": {},
     "output_type": "execute_result"
    }
   ],
   "source": [
    "paranormalcounts = IMDB['Plot'].str.contains(\"paranormal\").value_counts()\n",
    "paranormalcounts"
   ]
  },
  {
   "cell_type": "code",
   "execution_count": 151,
   "id": "5e80d723",
   "metadata": {},
   "outputs": [
    {
     "data": {
      "text/plain": [
       "False    3197\n",
       "True      130\n",
       "Name: Plot, dtype: int64"
      ]
     },
     "execution_count": 151,
     "metadata": {},
     "output_type": "execute_result"
    }
   ],
   "source": [
    "ghostcounts = IMDB['Plot'].str.contains(\"ghost\").value_counts()\n",
    "ghostcounts"
   ]
  },
  {
   "cell_type": "code",
   "execution_count": 154,
   "id": "8f2e375b",
   "metadata": {},
   "outputs": [
    {
     "data": {
      "text/plain": [
       "False    3195\n",
       "True      132\n",
       "Name: Plot, dtype: int64"
      ]
     },
     "execution_count": 154,
     "metadata": {},
     "output_type": "execute_result"
    }
   ],
   "source": [
    "demoncounts = IMDB['Plot'].str.contains(\"demon\").value_counts()\n",
    "demoncounts"
   ]
  },
  {
   "cell_type": "code",
   "execution_count": 315,
   "id": "cc59403b",
   "metadata": {},
   "outputs": [
    {
     "data": {
      "text/plain": [
       "False    3299\n",
       "True       28\n",
       "Name: Plot, dtype: int64"
      ]
     },
     "execution_count": 315,
     "metadata": {},
     "output_type": "execute_result"
    }
   ],
   "source": [
    "aliencounts = IMDB['Plot'].str.contains(\"alien\").value_counts()\n",
    "aliencounts"
   ]
  },
  {
   "cell_type": "code",
   "execution_count": 323,
   "id": "ae5c3f92",
   "metadata": {},
   "outputs": [
    {
     "data": {
      "text/plain": [
       "False    3314\n",
       "True       13\n",
       "Name: Plot, dtype: int64"
      ]
     },
     "execution_count": 323,
     "metadata": {},
     "output_type": "execute_result"
    }
   ],
   "source": [
    "beastcounts = IMDB['Plot'].str.contains(\"beast\").value_counts()\n",
    "beastcounts"
   ]
  },
  {
   "cell_type": "code",
   "execution_count": 324,
   "id": "486162d2",
   "metadata": {},
   "outputs": [
    {
     "data": {
      "text/plain": [
       "False    3265\n",
       "True       62\n",
       "Name: Plot, dtype: int64"
      ]
     },
     "execution_count": 324,
     "metadata": {},
     "output_type": "execute_result"
    }
   ],
   "source": [
    "monstercounts = IMDB['Plot'].str.contains(\"monster\").value_counts()\n",
    "monstercounts"
   ]
  },
  {
   "cell_type": "code",
   "execution_count": 326,
   "id": "92f2cd8a",
   "metadata": {},
   "outputs": [
    {
     "data": {
      "text/plain": [
       "False    3291\n",
       "True       36\n",
       "Name: Plot, dtype: int64"
      ]
     },
     "execution_count": 326,
     "metadata": {},
     "output_type": "execute_result"
    }
   ],
   "source": [
    "witchcounts = IMDB['Plot'].str.contains(\"witch\").value_counts()\n",
    "witchcounts"
   ]
  },
  {
   "cell_type": "markdown",
   "id": "bb364507",
   "metadata": {},
   "source": [
    "## Popular creatures dataframe"
   ]
  },
  {
   "cell_type": "code",
   "execution_count": 359,
   "id": "69a821c4",
   "metadata": {},
   "outputs": [
    {
     "data": {
      "text/html": [
       "<div>\n",
       "<style scoped>\n",
       "    .dataframe tbody tr th:only-of-type {\n",
       "        vertical-align: middle;\n",
       "    }\n",
       "\n",
       "    .dataframe tbody tr th {\n",
       "        vertical-align: top;\n",
       "    }\n",
       "\n",
       "    .dataframe thead th {\n",
       "        text-align: right;\n",
       "    }\n",
       "</style>\n",
       "<table border=\"1\" class=\"dataframe\">\n",
       "  <thead>\n",
       "    <tr style=\"text-align: right;\">\n",
       "      <th></th>\n",
       "      <th></th>\n",
       "    </tr>\n",
       "  </thead>\n",
       "  <tbody>\n",
       "    <tr>\n",
       "      <th>zombie</th>\n",
       "      <td>130</td>\n",
       "    </tr>\n",
       "    <tr>\n",
       "      <th>vampire</th>\n",
       "      <td>72</td>\n",
       "    </tr>\n",
       "    <tr>\n",
       "      <th>mummy</th>\n",
       "      <td>4</td>\n",
       "    </tr>\n",
       "    <tr>\n",
       "      <th>paranormal</th>\n",
       "      <td>68</td>\n",
       "    </tr>\n",
       "    <tr>\n",
       "      <th>ghost</th>\n",
       "      <td>130</td>\n",
       "    </tr>\n",
       "    <tr>\n",
       "      <th>demon</th>\n",
       "      <td>132</td>\n",
       "    </tr>\n",
       "    <tr>\n",
       "      <th>alien</th>\n",
       "      <td>28</td>\n",
       "    </tr>\n",
       "    <tr>\n",
       "      <th>beast</th>\n",
       "      <td>13</td>\n",
       "    </tr>\n",
       "    <tr>\n",
       "      <th>monster</th>\n",
       "      <td>62</td>\n",
       "    </tr>\n",
       "    <tr>\n",
       "      <th>witch</th>\n",
       "      <td>36</td>\n",
       "    </tr>\n",
       "    <tr>\n",
       "      <th>werewolf</th>\n",
       "      <td>10</td>\n",
       "    </tr>\n",
       "  </tbody>\n",
       "</table>\n",
       "</div>"
      ],
      "text/plain": [
       "               \n",
       "zombie      130\n",
       "vampire      72\n",
       "mummy         4\n",
       "paranormal   68\n",
       "ghost       130\n",
       "demon       132\n",
       "alien        28\n",
       "beast        13\n",
       "monster      62\n",
       "witch        36\n",
       "werewolf     10"
      ]
     },
     "execution_count": 359,
     "metadata": {},
     "output_type": "execute_result"
    }
   ],
   "source": [
    "horrorcreatures = np.array([['creatures',' '],\n",
    "                ['zombie',130],\n",
    "                ['vampire',72],\n",
    "                ['mummy',4],\n",
    "                ['paranormal',68],\n",
    "                ['ghost',130],\n",
    "                ['demon',132], \n",
    "                ['alien',28], \n",
    "                ['beast',13],\n",
    "                ['monster',62],\n",
    "                ['witch',36],            \n",
    "                ['werewolf',10]])\n",
    "monsters_df =pd.DataFrame(data=horrorcreatures[1:,1:],\n",
    "                  index=horrorcreatures[1:,0],\n",
    "                  columns=horrorcreatures[0,1:])\n",
    "monsters_df"
   ]
  },
  {
   "cell_type": "code",
   "execution_count": 361,
   "id": "681d9188",
   "metadata": {},
   "outputs": [],
   "source": [
    "monsters_df=monsters_df[' '].astype(float)"
   ]
  },
  {
   "cell_type": "markdown",
   "id": "14b062ab",
   "metadata": {},
   "source": [
    "### My monster pie!"
   ]
  },
  {
   "cell_type": "code",
   "execution_count": 370,
   "id": "3ca27c06",
   "metadata": {},
   "outputs": [
    {
     "data": {
      "image/png": "[encoded data removed]",
      "text/plain": [
       "<Figure size 432x288 with 1 Axes>"
      ]
     },
     "metadata": {},
     "output_type": "display_data"
    },
    {
     "data": {
      "text/plain": [
       "<Figure size 432x288 with 0 Axes>"
      ]
     },
     "metadata": {},
     "output_type": "display_data"
    }
   ],
   "source": [
    "monsters_df.plot.pie()\n",
    "plt.show()\n",
    "plt.savefig('monsterpie.png')"
   ]
  },
  {
   "cell_type": "code",
   "execution_count": 382,
   "id": "0ffce303",
   "metadata": {},
   "outputs": [],
   "source": [
    "pd.set_option(\"display.max_colwidth\", None)\n",
    "#firstcovidtweets"
   ]
  },
  {
   "cell_type": "markdown",
   "id": "17e54404",
   "metadata": {},
   "source": [
    "# Results\n",
    "### After my data analysis, my results showed that there were more Tweets that talked about COVID, the vaccine, and the flu together, than zombies which doesn't support my hypothesis but I expected it.  Although, it is notable that there are still a good amount of Tweets that mention COVID, the vaccine, and zombies in conjunction with each other. I also saw trends in the distributions that peaked my interest. Overall, I noticed that the ideas behind the Tweets were either based on the common theme of survival, being in a pandemic or a zombie apocalypse, or based on the CDC’s release of their Zombie Apocalypse Preparedness Guide. In my IMDB analysis, I noticed that zombies are very popular in entertainment. In comparison to other well-known horror movie creatures, zombies were tied with ghost for second place, only two movies each below the demon.\n",
    "\n",
    "## Limitations\n",
    "### Even though I was able to acquire results from my data, there were great limitations and setbacks. Originally, my research question was based around if contagion horror amplified fear during the COVID-19 pandemic. I soon realized that this is not something I would be able to easily conclude. Unfortunately, there were still limitations to my data, as it is extremely difficult to retrieve all Tweets from the beginning of the COVID-19 pandemic until now. Most datasets were contained in a small frame of time, but had hundreds of thousands of Tweets. Even in my own datasets, I was only limited to less than 100 Tweets. The IMDB data was not as limiting as the other datasets, yet, only had ‘popular movies’ which did not allow me to get the full scope of all movies released. \n",
    "\n",
    "## Conclusion\n",
    "### I can not conclude from the results of my data analysis that zombies in popular entertainment or media has any effect on how we perceive the COVID-19 pandemic. I realized that this is because my research question is completely correlational and I can not determine causation from this. However, my results could possibly give an idea of what people expressed publicly on Twitter about the COVID-19 pandemic, and illustrate the scope of how popular contagion horror is in entertainment media during and before the pandemic. Overall, it is undeniable that exposure to any popular media can affect the way you think and perceive events. Though my research is only a limited part of this idea, it could inspire more research about media influence over society during the pandemic, such as other popular media like the news or other social media platforms."
   ]
  },
  {
   "cell_type": "code",
   "execution_count": null,
   "id": "c821bb01",
   "metadata": {},
   "outputs": [],
   "source": []
  }
 ],
 "metadata": {
  "kernelspec": {
   "display_name": "Python 3",
   "language": "python",
   "name": "python3"
  },
  "language_info": {
   "codemirror_mode": {
    "name": "ipython",
    "version": 3
   },
   "file_extension": ".py",
   "mimetype": "text/x-python",
   "name": "python",
   "nbconvert_exporter": "python",
   "pygments_lexer": "ipython3",
   "version": "3.8.8"
  }
 },
 "nbformat": 4,
 "nbformat_minor": 5
}
