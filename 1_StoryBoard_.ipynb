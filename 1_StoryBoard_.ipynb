{
  "nbformat": 4,
  "nbformat_minor": 5,
  "metadata": {
    "kernelspec": {
      "display_name": "Python 3",
      "language": "python",
      "name": "python3"
    },
    "language_info": {
      "codemirror_mode": {
        "name": "ipython",
        "version": 3
      },
      "file_extension": ".py",
      "mimetype": "text/x-python",
      "name": "python",
      "nbconvert_exporter": "python",
      "pygments_lexer": "ipython3",
      "version": "3.8.8"
    },
    "colab": {
      "name": "1 StoryBoard .ipynb",
      "provenance": [],
      "collapsed_sections": []
    }
  },
  "cells": [
    {
      "cell_type": "markdown",
      "metadata": {
        "id": "35057098"
      },
      "source": [
        "# First I am going to import the libraries I need to complete my data analysis."
      ],
      "id": "35057098"
    },
    {
      "cell_type": "markdown",
      "metadata": {
        "id": "74dfb5ce"
      },
      "source": [
        "### Libraries to analyze word frequency"
      ],
      "id": "74dfb5ce"
    },
    {
      "cell_type": "code",
      "metadata": {
        "id": "6145addb",
        "outputId": "b8af9feb-220f-472f-dbcf-3e1e6ddf2860"
      },
      "source": [
        "#Since I am going to be dealing with individual words, this will help me remove punctuation. \n",
        "from string import punctuation\n",
        "print(punctuation)\n",
        "print(len(punctuation))"
      ],
      "id": "6145addb",
      "execution_count": null,
      "outputs": [
        {
          "output_type": "stream",
          "text": [
            "!\"#$%&'()*+,-./:;<=>?@[\\]^_`{|}~\n",
            "32\n"
          ],
          "name": "stdout"
        }
      ]
    },
    {
      "cell_type": "code",
      "metadata": {
        "id": "5f30bca0"
      },
      "source": [
        "#This is a module to count word frequencies.\n",
        "from collections import Counter"
      ],
      "id": "5f30bca0",
      "execution_count": null,
      "outputs": []
    },
    {
      "cell_type": "code",
      "metadata": {
        "id": "3d1a355a",
        "outputId": "6736391d-1185-46a2-a812-8a5386626a71"
      },
      "source": [
        "#A module to remove stop words. \n",
        "import nltk\n",
        "nltk.download(\"stopwords\")\n",
        "nltk.download(\"averaged_perceptron_tagger\")\n",
        "from nltk.corpus import stopwords"
      ],
      "id": "3d1a355a",
      "execution_count": null,
      "outputs": [
        {
          "output_type": "stream",
          "text": [
            "[nltk_data] Downloading package stopwords to\n",
            "[nltk_data]     C:\\Users\\19092\\AppData\\Roaming\\nltk_data...\n",
            "[nltk_data]   Package stopwords is already up-to-date!\n",
            "[nltk_data] Downloading package averaged_perceptron_tagger to\n",
            "[nltk_data]     C:\\Users\\19092\\AppData\\Roaming\\nltk_data...\n",
            "[nltk_data]   Package averaged_perceptron_tagger is already up-to-\n",
            "[nltk_data]       date!\n"
          ],
          "name": "stderr"
        }
      ]
    },
    {
      "cell_type": "code",
      "metadata": {
        "id": "367b4397",
        "outputId": "644efaf0-235b-4857-baa8-5b9d54965105"
      },
      "source": [
        "# Install spaCy and trained model downloaded.\n",
        "# install spacy\n",
        "# Will make my analysis much simplier.  \n",
        "!pip install spacy\n",
        "\n",
        "# Download a trained English model (small)\n",
        "!python -m spacy download en_core_web_sm \n",
        "\n",
        "# Download the large model as well\n",
        "!python -m spacy download en_core_web_lg"
      ],
      "id": "367b4397",
      "execution_count": null,
      "outputs": [
        {
          "output_type": "stream",
          "text": [
            "Requirement already satisfied: spacy in c:\\users\\19092\\anaconda3\\lib\\site-packages (3.0.6)\n",
            "Requirement already satisfied: pydantic<1.8.0,>=1.7.1 in c:\\users\\19092\\anaconda3\\lib\\site-packages (from spacy) (1.7.4)\n",
            "Requirement already satisfied: jinja2 in c:\\users\\19092\\anaconda3\\lib\\site-packages (from spacy) (2.11.3)\n",
            "Requirement already satisfied: numpy>=1.15.0 in c:\\users\\19092\\anaconda3\\lib\\site-packages (from spacy) (1.20.1)\n",
            "Requirement already satisfied: tqdm<5.0.0,>=4.38.0 in c:\\users\\19092\\anaconda3\\lib\\site-packages (from spacy) (4.59.0)\n",
            "Requirement already satisfied: preshed<3.1.0,>=3.0.2 in c:\\users\\19092\\anaconda3\\lib\\site-packages (from spacy) (3.0.5)\n",
            "Requirement already satisfied: packaging>=20.0 in c:\\users\\19092\\anaconda3\\lib\\site-packages (from spacy) (20.9)\n",
            "Requirement already satisfied: setuptools in c:\\users\\19092\\anaconda3\\lib\\site-packages (from spacy) (52.0.0.post20210125)\n",
            "Requirement already satisfied: catalogue<2.1.0,>=2.0.3 in c:\\users\\19092\\anaconda3\\lib\\site-packages (from spacy) (2.0.4)\n",
            "Requirement already satisfied: wasabi<1.1.0,>=0.8.1 in c:\\users\\19092\\anaconda3\\lib\\site-packages (from spacy) (0.8.2)\n",
            "Requirement already satisfied: srsly<3.0.0,>=2.4.1 in c:\\users\\19092\\anaconda3\\lib\\site-packages (from spacy) (2.4.1)\n",
            "Requirement already satisfied: thinc<8.1.0,>=8.0.3 in c:\\users\\19092\\anaconda3\\lib\\site-packages (from spacy) (8.0.3)\n",
            "Requirement already satisfied: typer<0.4.0,>=0.3.0 in c:\\users\\19092\\anaconda3\\lib\\site-packages (from spacy) (0.3.2)\n",
            "Requirement already satisfied: blis<0.8.0,>=0.4.0 in c:\\users\\19092\\anaconda3\\lib\\site-packages (from spacy) (0.7.4)\n",
            "Requirement already satisfied: requests<3.0.0,>=2.13.0 in c:\\users\\19092\\anaconda3\\lib\\site-packages (from spacy) (2.25.1)\n",
            "Requirement already satisfied: murmurhash<1.1.0,>=0.28.0 in c:\\users\\19092\\anaconda3\\lib\\site-packages (from spacy) (1.0.5)\n",
            "Requirement already satisfied: cymem<2.1.0,>=2.0.2 in c:\\users\\19092\\anaconda3\\lib\\site-packages (from spacy) (2.0.5)\n",
            "Requirement already satisfied: pathy>=0.3.5 in c:\\users\\19092\\anaconda3\\lib\\site-packages (from spacy) (0.5.2)\n",
            "Requirement already satisfied: spacy-legacy<3.1.0,>=3.0.4 in c:\\users\\19092\\anaconda3\\lib\\site-packages (from spacy) (3.0.5)\n",
            "Requirement already satisfied: pyparsing>=2.0.2 in c:\\users\\19092\\anaconda3\\lib\\site-packages (from packaging>=20.0->spacy) (2.4.7)\n",
            "Requirement already satisfied: smart-open<4.0.0,>=2.2.0 in c:\\users\\19092\\anaconda3\\lib\\site-packages (from pathy>=0.3.5->spacy) (3.0.0)\n",
            "Requirement already satisfied: idna<3,>=2.5 in c:\\users\\19092\\anaconda3\\lib\\site-packages (from requests<3.0.0,>=2.13.0->spacy) (2.10)\n",
            "Requirement already satisfied: certifi>=2017.4.17 in c:\\users\\19092\\anaconda3\\lib\\site-packages (from requests<3.0.0,>=2.13.0->spacy) (2020.12.5)\n",
            "Requirement already satisfied: chardet<5,>=3.0.2 in c:\\users\\19092\\anaconda3\\lib\\site-packages (from requests<3.0.0,>=2.13.0->spacy) (4.0.0)\n",
            "Requirement already satisfied: urllib3<1.27,>=1.21.1 in c:\\users\\19092\\anaconda3\\lib\\site-packages (from requests<3.0.0,>=2.13.0->spacy) (1.26.4)\n",
            "Requirement already satisfied: click<7.2.0,>=7.1.1 in c:\\users\\19092\\anaconda3\\lib\\site-packages (from typer<0.4.0,>=0.3.0->spacy) (7.1.2)\n",
            "Requirement already satisfied: MarkupSafe>=0.23 in c:\\users\\19092\\anaconda3\\lib\\site-packages (from jinja2->spacy) (1.1.1)\n",
            "Collecting en-core-web-sm==3.0.0\n",
            "  Downloading https://github.com/explosion/spacy-models/releases/download/en_core_web_sm-3.0.0/en_core_web_sm-3.0.0-py3-none-any.whl (13.7 MB)\n",
            "Requirement already satisfied: spacy<3.1.0,>=3.0.0 in c:\\users\\19092\\anaconda3\\lib\\site-packages (from en-core-web-sm==3.0.0) (3.0.6)\n",
            "Requirement already satisfied: pathy>=0.3.5 in c:\\users\\19092\\anaconda3\\lib\\site-packages (from spacy<3.1.0,>=3.0.0->en-core-web-sm==3.0.0) (0.5.2)\n",
            "Requirement already satisfied: jinja2 in c:\\users\\19092\\anaconda3\\lib\\site-packages (from spacy<3.1.0,>=3.0.0->en-core-web-sm==3.0.0) (2.11.3)\n",
            "Requirement already satisfied: catalogue<2.1.0,>=2.0.3 in c:\\users\\19092\\anaconda3\\lib\\site-packages (from spacy<3.1.0,>=3.0.0->en-core-web-sm==3.0.0) (2.0.4)\n",
            "Requirement already satisfied: packaging>=20.0 in c:\\users\\19092\\anaconda3\\lib\\site-packages (from spacy<3.1.0,>=3.0.0->en-core-web-sm==3.0.0) (20.9)\n",
            "Requirement already satisfied: numpy>=1.15.0 in c:\\users\\19092\\anaconda3\\lib\\site-packages (from spacy<3.1.0,>=3.0.0->en-core-web-sm==3.0.0) (1.20.1)\n",
            "Requirement already satisfied: srsly<3.0.0,>=2.4.1 in c:\\users\\19092\\anaconda3\\lib\\site-packages (from spacy<3.1.0,>=3.0.0->en-core-web-sm==3.0.0) (2.4.1)\n",
            "Requirement already satisfied: typer<0.4.0,>=0.3.0 in c:\\users\\19092\\anaconda3\\lib\\site-packages (from spacy<3.1.0,>=3.0.0->en-core-web-sm==3.0.0) (0.3.2)\n",
            "Requirement already satisfied: tqdm<5.0.0,>=4.38.0 in c:\\users\\19092\\anaconda3\\lib\\site-packages (from spacy<3.1.0,>=3.0.0->en-core-web-sm==3.0.0) (4.59.0)\n",
            "Requirement already satisfied: spacy-legacy<3.1.0,>=3.0.4 in c:\\users\\19092\\anaconda3\\lib\\site-packages (from spacy<3.1.0,>=3.0.0->en-core-web-sm==3.0.0) (3.0.5)\n",
            "Requirement already satisfied: pydantic<1.8.0,>=1.7.1 in c:\\users\\19092\\anaconda3\\lib\\site-packages (from spacy<3.1.0,>=3.0.0->en-core-web-sm==3.0.0) (1.7.4)\n",
            "Requirement already satisfied: preshed<3.1.0,>=3.0.2 in c:\\users\\19092\\anaconda3\\lib\\site-packages (from spacy<3.1.0,>=3.0.0->en-core-web-sm==3.0.0) (3.0.5)\n",
            "Requirement already satisfied: cymem<2.1.0,>=2.0.2 in c:\\users\\19092\\anaconda3\\lib\\site-packages (from spacy<3.1.0,>=3.0.0->en-core-web-sm==3.0.0) (2.0.5)\n",
            "Requirement already satisfied: setuptools in c:\\users\\19092\\anaconda3\\lib\\site-packages (from spacy<3.1.0,>=3.0.0->en-core-web-sm==3.0.0) (52.0.0.post20210125)\n",
            "Requirement already satisfied: thinc<8.1.0,>=8.0.3 in c:\\users\\19092\\anaconda3\\lib\\site-packages (from spacy<3.1.0,>=3.0.0->en-core-web-sm==3.0.0) (8.0.3)\n",
            "Requirement already satisfied: blis<0.8.0,>=0.4.0 in c:\\users\\19092\\anaconda3\\lib\\site-packages (from spacy<3.1.0,>=3.0.0->en-core-web-sm==3.0.0) (0.7.4)\n",
            "Requirement already satisfied: wasabi<1.1.0,>=0.8.1 in c:\\users\\19092\\anaconda3\\lib\\site-packages (from spacy<3.1.0,>=3.0.0->en-core-web-sm==3.0.0) (0.8.2)\n",
            "Requirement already satisfied: requests<3.0.0,>=2.13.0 in c:\\users\\19092\\anaconda3\\lib\\site-packages (from spacy<3.1.0,>=3.0.0->en-core-web-sm==3.0.0) (2.25.1)\n",
            "Requirement already satisfied: murmurhash<1.1.0,>=0.28.0 in c:\\users\\19092\\anaconda3\\lib\\site-packages (from spacy<3.1.0,>=3.0.0->en-core-web-sm==3.0.0) (1.0.5)\n",
            "Requirement already satisfied: pyparsing>=2.0.2 in c:\\users\\19092\\anaconda3\\lib\\site-packages (from packaging>=20.0->spacy<3.1.0,>=3.0.0->en-core-web-sm==3.0.0) (2.4.7)\n",
            "Requirement already satisfied: smart-open<4.0.0,>=2.2.0 in c:\\users\\19092\\anaconda3\\lib\\site-packages (from pathy>=0.3.5->spacy<3.1.0,>=3.0.0->en-core-web-sm==3.0.0) (3.0.0)\n",
            "Requirement already satisfied: idna<3,>=2.5 in c:\\users\\19092\\anaconda3\\lib\\site-packages (from requests<3.0.0,>=2.13.0->spacy<3.1.0,>=3.0.0->en-core-web-sm==3.0.0) (2.10)\n",
            "Requirement already satisfied: chardet<5,>=3.0.2 in c:\\users\\19092\\anaconda3\\lib\\site-packages (from requests<3.0.0,>=2.13.0->spacy<3.1.0,>=3.0.0->en-core-web-sm==3.0.0) (4.0.0)\n",
            "Requirement already satisfied: certifi>=2017.4.17 in c:\\users\\19092\\anaconda3\\lib\\site-packages (from requests<3.0.0,>=2.13.0->spacy<3.1.0,>=3.0.0->en-core-web-sm==3.0.0) (2020.12.5)\n",
            "Requirement already satisfied: urllib3<1.27,>=1.21.1 in c:\\users\\19092\\anaconda3\\lib\\site-packages (from requests<3.0.0,>=2.13.0->spacy<3.1.0,>=3.0.0->en-core-web-sm==3.0.0) (1.26.4)\n",
            "Requirement already satisfied: click<7.2.0,>=7.1.1 in c:\\users\\19092\\anaconda3\\lib\\site-packages (from typer<0.4.0,>=0.3.0->spacy<3.1.0,>=3.0.0->en-core-web-sm==3.0.0) (7.1.2)\n",
            "Requirement already satisfied: MarkupSafe>=0.23 in c:\\users\\19092\\anaconda3\\lib\\site-packages (from jinja2->spacy<3.1.0,>=3.0.0->en-core-web-sm==3.0.0) (1.1.1)\n",
            "[+] Download and installation successful\n",
            "You can now load the package via spacy.load('en_core_web_sm')\n",
            "Collecting en-core-web-lg==3.0.0\n",
            "  Using cached https://github.com/explosion/spacy-models/releases/download/en_core_web_lg-3.0.0/en_core_web_lg-3.0.0-py3-none-any.whl (778.8 MB)\n",
            "Requirement already satisfied: spacy<3.1.0,>=3.0.0 in c:\\users\\19092\\anaconda3\\lib\\site-packages (from en-core-web-lg==3.0.0) (3.0.6)\n",
            "Requirement already satisfied: srsly<3.0.0,>=2.4.1 in c:\\users\\19092\\anaconda3\\lib\\site-packages (from spacy<3.1.0,>=3.0.0->en-core-web-lg==3.0.0) (2.4.1)\n",
            "Requirement already satisfied: catalogue<2.1.0,>=2.0.3 in c:\\users\\19092\\anaconda3\\lib\\site-packages (from spacy<3.1.0,>=3.0.0->en-core-web-lg==3.0.0) (2.0.4)\n",
            "Requirement already satisfied: typer<0.4.0,>=0.3.0 in c:\\users\\19092\\anaconda3\\lib\\site-packages (from spacy<3.1.0,>=3.0.0->en-core-web-lg==3.0.0) (0.3.2)\n",
            "Requirement already satisfied: preshed<3.1.0,>=3.0.2 in c:\\users\\19092\\anaconda3\\lib\\site-packages (from spacy<3.1.0,>=3.0.0->en-core-web-lg==3.0.0) (3.0.5)\n",
            "Requirement already satisfied: requests<3.0.0,>=2.13.0 in c:\\users\\19092\\anaconda3\\lib\\site-packages (from spacy<3.1.0,>=3.0.0->en-core-web-lg==3.0.0) (2.25.1)\n",
            "Requirement already satisfied: wasabi<1.1.0,>=0.8.1 in c:\\users\\19092\\anaconda3\\lib\\site-packages (from spacy<3.1.0,>=3.0.0->en-core-web-lg==3.0.0) (0.8.2)\n",
            "Requirement already satisfied: pydantic<1.8.0,>=1.7.1 in c:\\users\\19092\\anaconda3\\lib\\site-packages (from spacy<3.1.0,>=3.0.0->en-core-web-lg==3.0.0) (1.7.4)\n",
            "Requirement already satisfied: murmurhash<1.1.0,>=0.28.0 in c:\\users\\19092\\anaconda3\\lib\\site-packages (from spacy<3.1.0,>=3.0.0->en-core-web-lg==3.0.0) (1.0.5)\n",
            "Requirement already satisfied: thinc<8.1.0,>=8.0.3 in c:\\users\\19092\\anaconda3\\lib\\site-packages (from spacy<3.1.0,>=3.0.0->en-core-web-lg==3.0.0) (8.0.3)\n",
            "Requirement already satisfied: tqdm<5.0.0,>=4.38.0 in c:\\users\\19092\\anaconda3\\lib\\site-packages (from spacy<3.1.0,>=3.0.0->en-core-web-lg==3.0.0) (4.59.0)\n",
            "Requirement already satisfied: spacy-legacy<3.1.0,>=3.0.4 in c:\\users\\19092\\anaconda3\\lib\\site-packages (from spacy<3.1.0,>=3.0.0->en-core-web-lg==3.0.0) (3.0.5)\n",
            "Requirement already satisfied: jinja2 in c:\\users\\19092\\anaconda3\\lib\\site-packages (from spacy<3.1.0,>=3.0.0->en-core-web-lg==3.0.0) (2.11.3)\n",
            "Requirement already satisfied: cymem<2.1.0,>=2.0.2 in c:\\users\\19092\\anaconda3\\lib\\site-packages (from spacy<3.1.0,>=3.0.0->en-core-web-lg==3.0.0) (2.0.5)\n",
            "Requirement already satisfied: setuptools in c:\\users\\19092\\anaconda3\\lib\\site-packages (from spacy<3.1.0,>=3.0.0->en-core-web-lg==3.0.0) (52.0.0.post20210125)\n",
            "Requirement already satisfied: pathy>=0.3.5 in c:\\users\\19092\\anaconda3\\lib\\site-packages (from spacy<3.1.0,>=3.0.0->en-core-web-lg==3.0.0) (0.5.2)\n",
            "Requirement already satisfied: numpy>=1.15.0 in c:\\users\\19092\\anaconda3\\lib\\site-packages (from spacy<3.1.0,>=3.0.0->en-core-web-lg==3.0.0) (1.20.1)\n",
            "Requirement already satisfied: packaging>=20.0 in c:\\users\\19092\\anaconda3\\lib\\site-packages (from spacy<3.1.0,>=3.0.0->en-core-web-lg==3.0.0) (20.9)\n",
            "Requirement already satisfied: blis<0.8.0,>=0.4.0 in c:\\users\\19092\\anaconda3\\lib\\site-packages (from spacy<3.1.0,>=3.0.0->en-core-web-lg==3.0.0) (0.7.4)\n",
            "Requirement already satisfied: pyparsing>=2.0.2 in c:\\users\\19092\\anaconda3\\lib\\site-packages (from packaging>=20.0->spacy<3.1.0,>=3.0.0->en-core-web-lg==3.0.0) (2.4.7)\n",
            "Requirement already satisfied: smart-open<4.0.0,>=2.2.0 in c:\\users\\19092\\anaconda3\\lib\\site-packages (from pathy>=0.3.5->spacy<3.1.0,>=3.0.0->en-core-web-lg==3.0.0) (3.0.0)\n",
            "Requirement already satisfied: urllib3<1.27,>=1.21.1 in c:\\users\\19092\\anaconda3\\lib\\site-packages (from requests<3.0.0,>=2.13.0->spacy<3.1.0,>=3.0.0->en-core-web-lg==3.0.0) (1.26.4)\n",
            "Requirement already satisfied: chardet<5,>=3.0.2 in c:\\users\\19092\\anaconda3\\lib\\site-packages (from requests<3.0.0,>=2.13.0->spacy<3.1.0,>=3.0.0->en-core-web-lg==3.0.0) (4.0.0)\n",
            "Requirement already satisfied: idna<3,>=2.5 in c:\\users\\19092\\anaconda3\\lib\\site-packages (from requests<3.0.0,>=2.13.0->spacy<3.1.0,>=3.0.0->en-core-web-lg==3.0.0) (2.10)\n",
            "Requirement already satisfied: certifi>=2017.4.17 in c:\\users\\19092\\anaconda3\\lib\\site-packages (from requests<3.0.0,>=2.13.0->spacy<3.1.0,>=3.0.0->en-core-web-lg==3.0.0) (2020.12.5)\n",
            "Requirement already satisfied: click<7.2.0,>=7.1.1 in c:\\users\\19092\\anaconda3\\lib\\site-packages (from typer<0.4.0,>=0.3.0->spacy<3.1.0,>=3.0.0->en-core-web-lg==3.0.0) (7.1.2)\n",
            "Requirement already satisfied: MarkupSafe>=0.23 in c:\\users\\19092\\anaconda3\\lib\\site-packages (from jinja2->spacy<3.1.0,>=3.0.0->en-core-web-lg==3.0.0) (1.1.1)\n",
            "[+] Download and installation successful\n",
            "You can now load the package via spacy.load('en_core_web_lg')\n"
          ],
          "name": "stdout"
        }
      ]
    },
    {
      "cell_type": "code",
      "metadata": {
        "id": "26111387"
      },
      "source": [
        "import spacy"
      ],
      "id": "26111387",
      "execution_count": null,
      "outputs": []
    },
    {
      "cell_type": "markdown",
      "metadata": {
        "id": "604ddf8c"
      },
      "source": [
        "### Libraries to analyze table data"
      ],
      "id": "604ddf8c"
    },
    {
      "cell_type": "code",
      "metadata": {
        "id": "1d9b024e",
        "outputId": "9318fc03-ce5a-406b-d26b-7062aed3ee10"
      },
      "source": [
        "pip install datascience"
      ],
      "id": "1d9b024e",
      "execution_count": null,
      "outputs": [
        {
          "output_type": "stream",
          "text": [
            "Requirement already satisfied: datascience in c:\\users\\19092\\anaconda3\\lib\\site-packages (0.17.0)\n",
            "Requirement already satisfied: sphinx in c:\\users\\19092\\anaconda3\\lib\\site-packages (from datascience) (4.0.1)\n",
            "Requirement already satisfied: scipy in c:\\users\\19092\\anaconda3\\lib\\site-packages (from datascience) (1.6.2)\n",
            "Requirement already satisfied: plotly in c:\\users\\19092\\anaconda3\\lib\\site-packages (from datascience) (4.14.3)\n",
            "Requirement already satisfied: matplotlib>=3.0.0 in c:\\users\\19092\\anaconda3\\lib\\site-packages (from datascience) (3.3.4)\n",
            "Requirement already satisfied: numpy in c:\\users\\19092\\anaconda3\\lib\\site-packages (from datascience) (1.20.1)\n",
            "Requirement already satisfied: nbsphinx in c:\\users\\19092\\anaconda3\\lib\\site-packages (from datascience) (0.8.6)\n",
            "Requirement already satisfied: coverage in c:\\users\\19092\\anaconda3\\lib\\site-packages (from datascience) (5.5)\n",
            "Requirement already satisfied: setuptools in c:\\users\\19092\\anaconda3\\lib\\site-packages (from datascience) (52.0.0.post20210125)\n",
            "Requirement already satisfied: ipython in c:\\users\\19092\\anaconda3\\lib\\site-packages (from datascience) (7.22.0)\n",
            "Requirement already satisfied: bokeh in c:\\users\\19092\\anaconda3\\lib\\site-packages (from datascience) (2.3.2)\n",
            "Requirement already satisfied: coveralls in c:\\users\\19092\\anaconda3\\lib\\site-packages (from datascience) (3.1.0)\n",
            "Requirement already satisfied: pytest in c:\\users\\19092\\anaconda3\\lib\\site-packages (from datascience) (6.2.3)\n",
            "Requirement already satisfied: branca in c:\\users\\19092\\anaconda3\\lib\\site-packages (from datascience) (0.4.2)\n",
            "Requirement already satisfied: folium>=0.9.1 in c:\\users\\19092\\anaconda3\\lib\\site-packages (from datascience) (0.12.1)\n",
            "Requirement already satisfied: pandas in c:\\users\\19092\\anaconda3\\lib\\site-packages (from datascience) (1.2.4)\n",
            "Requirement already satisfied: requests in c:\\users\\19092\\anaconda3\\lib\\site-packages (from folium>=0.9.1->datascience) (2.25.1)\n",
            "Requirement already satisfied: jinja2>=2.9 in c:\\users\\19092\\anaconda3\\lib\\site-packages (from folium>=0.9.1->datascience) (2.11.3)\n",
            "Requirement already satisfied: MarkupSafe>=0.23 in c:\\users\\19092\\anaconda3\\lib\\site-packages (from jinja2>=2.9->folium>=0.9.1->datascience) (1.1.1)\n",
            "Requirement already satisfied: python-dateutil>=2.1 in c:\\users\\19092\\anaconda3\\lib\\site-packages (from matplotlib>=3.0.0->datascience) (2.8.1)\n",
            "Requirement already satisfied: pyparsing!=2.0.4,!=2.1.2,!=2.1.6,>=2.0.3 in c:\\users\\19092\\anaconda3\\lib\\site-packages (from matplotlib>=3.0.0->datascience) (2.4.7)\n",
            "Requirement already satisfied: pillow>=6.2.0 in c:\\users\\19092\\anaconda3\\lib\\site-packages (from matplotlib>=3.0.0->datascience) (8.2.0)\n",
            "Requirement already satisfied: cycler>=0.10 in c:\\users\\19092\\anaconda3\\lib\\site-packages (from matplotlib>=3.0.0->datascience) (0.10.0)\n",
            "Requirement already satisfied: kiwisolver>=1.0.1 in c:\\users\\19092\\anaconda3\\lib\\site-packages (from matplotlib>=3.0.0->datascience) (1.3.1)\n",
            "Requirement already satisfied: six in c:\\users\\19092\\anaconda3\\lib\\site-packages (from cycler>=0.10->matplotlib>=3.0.0->datascience) (1.15.0)\n",
            "Requirement already satisfied: PyYAML>=3.10 in c:\\users\\19092\\anaconda3\\lib\\site-packages (from bokeh->datascience) (5.4.1)\n",
            "Requirement already satisfied: tornado>=5.1 in c:\\users\\19092\\anaconda3\\lib\\site-packages (from bokeh->datascience) (6.1)\n",
            "Requirement already satisfied: typing-extensions>=3.7.4 in c:\\users\\19092\\anaconda3\\lib\\site-packages (from bokeh->datascience) (3.7.4.3)\n",
            "Requirement already satisfied: packaging>=16.8 in c:\\users\\19092\\anaconda3\\lib\\site-packages (from bokeh->datascience) (20.9)\n",
            "Requirement already satisfied: docopt>=0.6.1 in c:\\users\\19092\\anaconda3\\lib\\site-packages (from coveralls->datascience) (0.6.2)\n",
            "Requirement already satisfied: idna<3,>=2.5 in c:\\users\\19092\\anaconda3\\lib\\site-packages (from requests->folium>=0.9.1->datascience) (2.10)\n",
            "Requirement already satisfied: chardet<5,>=3.0.2 in c:\\users\\19092\\anaconda3\\lib\\site-packages (from requests->folium>=0.9.1->datascience) (4.0.0)\n",
            "Requirement already satisfied: certifi>=2017.4.17 in c:\\users\\19092\\anaconda3\\lib\\site-packages (from requests->folium>=0.9.1->datascience) (2020.12.5)\n",
            "Requirement already satisfied: urllib3<1.27,>=1.21.1 in c:\\users\\19092\\anaconda3\\lib\\site-packages (from requests->folium>=0.9.1->datascience) (1.26.4)\n",
            "Requirement already satisfied: jedi>=0.16 in c:\\users\\19092\\anaconda3\\lib\\site-packages (from ipython->datascience) (0.17.2)\n",
            "Requirement already satisfied: decorator in c:\\users\\19092\\anaconda3\\lib\\site-packages (from ipython->datascience) (5.0.6)\n",
            "Requirement already satisfied: pygments in c:\\users\\19092\\anaconda3\\lib\\site-packages (from ipython->datascience) (2.8.1)\n",
            "Requirement already satisfied: prompt-toolkit!=3.0.0,!=3.0.1,<3.1.0,>=2.0.0 in c:\\users\\19092\\anaconda3\\lib\\site-packages (from ipython->datascience) (3.0.17)\n",
            "Requirement already satisfied: colorama in c:\\users\\19092\\anaconda3\\lib\\site-packages (from ipython->datascience) (0.4.4)\n",
            "Requirement already satisfied: backcall in c:\\users\\19092\\anaconda3\\lib\\site-packages (from ipython->datascience) (0.2.0)\n",
            "Requirement already satisfied: traitlets>=4.2 in c:\\users\\19092\\anaconda3\\lib\\site-packages (from ipython->datascience) (5.0.5)\n",
            "Requirement already satisfied: pickleshare in c:\\users\\19092\\anaconda3\\lib\\site-packages (from ipython->datascience) (0.7.5)\n",
            "Requirement already satisfied: parso<0.8.0,>=0.7.0 in c:\\users\\19092\\anaconda3\\lib\\site-packages (from jedi>=0.16->ipython->datascience) (0.7.0)\n",
            "Requirement already satisfied: wcwidth in c:\\users\\19092\\anaconda3\\lib\\site-packages (from prompt-toolkit!=3.0.0,!=3.0.1,<3.1.0,>=2.0.0->ipython->datascience) (0.2.5)\n",
            "Requirement already satisfied: ipython-genutils in c:\\users\\19092\\anaconda3\\lib\\site-packages (from traitlets>=4.2->ipython->datascience) (0.2.0)\n",
            "Requirement already satisfied: docutils in c:\\users\\19092\\anaconda3\\lib\\site-packages (from nbsphinx->datascience) (0.17)\n",
            "Requirement already satisfied: nbconvert!=5.4 in c:\\users\\19092\\anaconda3\\lib\\site-packages (from nbsphinx->datascience) (6.0.7)\n",
            "Requirement already satisfied: nbformat in c:\\users\\19092\\anaconda3\\lib\\site-packages (from nbsphinx->datascience) (5.1.3)\n",
            "Requirement already satisfied: entrypoints>=0.2.2 in c:\\users\\19092\\anaconda3\\lib\\site-packages (from nbconvert!=5.4->nbsphinx->datascience) (0.3)\n",
            "Requirement already satisfied: defusedxml in c:\\users\\19092\\anaconda3\\lib\\site-packages (from nbconvert!=5.4->nbsphinx->datascience) (0.7.1)\n",
            "Requirement already satisfied: jupyterlab-pygments in c:\\users\\19092\\anaconda3\\lib\\site-packages (from nbconvert!=5.4->nbsphinx->datascience) (0.1.2)\n",
            "Requirement already satisfied: jupyter-core in c:\\users\\19092\\anaconda3\\lib\\site-packages (from nbconvert!=5.4->nbsphinx->datascience) (4.7.1)\n",
            "Requirement already satisfied: testpath in c:\\users\\19092\\anaconda3\\lib\\site-packages (from nbconvert!=5.4->nbsphinx->datascience) (0.4.4)\n",
            "Requirement already satisfied: bleach in c:\\users\\19092\\anaconda3\\lib\\site-packages (from nbconvert!=5.4->nbsphinx->datascience) (3.3.0)\n",
            "Requirement already satisfied: pandocfilters>=1.4.1 in c:\\users\\19092\\anaconda3\\lib\\site-packages (from nbconvert!=5.4->nbsphinx->datascience) (1.4.3)\n",
            "Requirement already satisfied: nbclient<0.6.0,>=0.5.0 in c:\\users\\19092\\anaconda3\\lib\\site-packages (from nbconvert!=5.4->nbsphinx->datascience) (0.5.3)\n",
            "Requirement already satisfied: mistune<2,>=0.8.1 in c:\\users\\19092\\anaconda3\\lib\\site-packages (from nbconvert!=5.4->nbsphinx->datascience) (0.8.4)\n",
            "Requirement already satisfied: jupyter-client>=6.1.5 in c:\\users\\19092\\anaconda3\\lib\\site-packages (from nbclient<0.6.0,>=0.5.0->nbconvert!=5.4->nbsphinx->datascience) (6.1.12)\n",
            "Requirement already satisfied: async-generator in c:\\users\\19092\\anaconda3\\lib\\site-packages (from nbclient<0.6.0,>=0.5.0->nbconvert!=5.4->nbsphinx->datascience) (1.10)\n",
            "Requirement already satisfied: nest-asyncio in c:\\users\\19092\\anaconda3\\lib\\site-packages (from nbclient<0.6.0,>=0.5.0->nbconvert!=5.4->nbsphinx->datascience) (1.5.1)\n",
            "Requirement already satisfied: pyzmq>=13 in c:\\users\\19092\\anaconda3\\lib\\site-packages (from jupyter-client>=6.1.5->nbclient<0.6.0,>=0.5.0->nbconvert!=5.4->nbsphinx->datascience) (20.0.0)\n",
            "Requirement already satisfied: pywin32>=1.0 in c:\\users\\19092\\anaconda3\\lib\\site-packages (from jupyter-core->nbconvert!=5.4->nbsphinx->datascience) (227)\n",
            "Requirement already satisfied: jsonschema!=2.5.0,>=2.4 in c:\\users\\19092\\anaconda3\\lib\\site-packages (from nbformat->nbsphinx->datascience) (3.2.0)\n",
            "Requirement already satisfied: attrs>=17.4.0 in c:\\users\\19092\\anaconda3\\lib\\site-packages (from jsonschema!=2.5.0,>=2.4->nbformat->nbsphinx->datascience) (20.3.0)\n",
            "Requirement already satisfied: pyrsistent>=0.14.0 in c:\\users\\19092\\anaconda3\\lib\\site-packages (from jsonschema!=2.5.0,>=2.4->nbformat->nbsphinx->datascience) (0.17.3)\n",
            "Requirement already satisfied: sphinxcontrib-qthelp in c:\\users\\19092\\anaconda3\\lib\\site-packages (from sphinx->datascience) (1.0.3)\n",
            "Requirement already satisfied: sphinxcontrib-serializinghtml in c:\\users\\19092\\anaconda3\\lib\\site-packages (from sphinx->datascience) (1.1.4)\n",
            "Requirement already satisfied: sphinxcontrib-htmlhelp in c:\\users\\19092\\anaconda3\\lib\\site-packages (from sphinx->datascience) (1.0.3)\n",
            "Requirement already satisfied: imagesize in c:\\users\\19092\\anaconda3\\lib\\site-packages (from sphinx->datascience) (1.2.0)\n",
            "Requirement already satisfied: alabaster<0.8,>=0.7 in c:\\users\\19092\\anaconda3\\lib\\site-packages (from sphinx->datascience) (0.7.12)\n",
            "Requirement already satisfied: sphinxcontrib-applehelp in c:\\users\\19092\\anaconda3\\lib\\site-packages (from sphinx->datascience) (1.0.2)\n",
            "Requirement already satisfied: babel>=1.3 in c:\\users\\19092\\anaconda3\\lib\\site-packages (from sphinx->datascience) (2.9.0)\n",
            "Requirement already satisfied: sphinxcontrib-devhelp in c:\\users\\19092\\anaconda3\\lib\\site-packages (from sphinx->datascience) (1.0.2)\n",
            "Requirement already satisfied: snowballstemmer>=1.1 in c:\\users\\19092\\anaconda3\\lib\\site-packages (from sphinx->datascience) (2.1.0)\n",
            "Requirement already satisfied: sphinxcontrib-jsmath in c:\\users\\19092\\anaconda3\\lib\\site-packages (from sphinx->datascience) (1.0.1)\n",
            "Requirement already satisfied: pytz>=2015.7 in c:\\users\\19092\\anaconda3\\lib\\site-packages (from babel>=1.3->sphinx->datascience) (2021.1)\n",
            "Requirement already satisfied: webencodings in c:\\users\\19092\\anaconda3\\lib\\site-packages (from bleach->nbconvert!=5.4->nbsphinx->datascience) (0.5.1)\n",
            "Requirement already satisfied: retrying>=1.3.3 in c:\\users\\19092\\anaconda3\\lib\\site-packages (from plotly->datascience) (1.3.3)\n",
            "Requirement already satisfied: iniconfig in c:\\users\\19092\\anaconda3\\lib\\site-packages (from pytest->datascience) (1.1.1)\n",
            "Requirement already satisfied: pluggy<1.0.0a1,>=0.12 in c:\\users\\19092\\anaconda3\\lib\\site-packages (from pytest->datascience) (0.13.1)\n",
            "Requirement already satisfied: py>=1.8.2 in c:\\users\\19092\\anaconda3\\lib\\site-packages (from pytest->datascience) (1.10.0)\n",
            "Requirement already satisfied: toml in c:\\users\\19092\\anaconda3\\lib\\site-packages (from pytest->datascience) (0.10.2)\n",
            "Requirement already satisfied: atomicwrites>=1.0 in c:\\users\\19092\\anaconda3\\lib\\site-packages (from pytest->datascience) (1.4.0)\n",
            "Note: you may need to restart the kernel to use updated packages.\n"
          ],
          "name": "stdout"
        }
      ]
    },
    {
      "cell_type": "code",
      "metadata": {
        "id": "e5475612"
      },
      "source": [
        "import numpy as np\n",
        "import math\n",
        "import matplotlib\n",
        "matplotlib.use('Agg')\n",
        "%matplotlib inline\n",
        "import matplotlib.pyplot as plt\n",
        "import numpy as np\n",
        "import pandas as pd"
      ],
      "id": "e5475612",
      "execution_count": null,
      "outputs": []
    },
    {
      "cell_type": "code",
      "metadata": {
        "id": "c5d23729"
      },
      "source": [
        "from datascience import Table"
      ],
      "id": "c5d23729",
      "execution_count": null,
      "outputs": []
    },
    {
      "cell_type": "markdown",
      "metadata": {
        "id": "c3861e3b"
      },
      "source": [
        "# Datasets and Tables"
      ],
      "id": "c3861e3b"
    },
    {
      "cell_type": "code",
      "metadata": {
        "id": "3f06abd1",
        "outputId": "6557d68c-7309-4bd3-c628-4d38764976d0"
      },
      "source": [
        "%pwd"
      ],
      "id": "3f06abd1",
      "execution_count": null,
      "outputs": [
        {
          "output_type": "execute_result",
          "data": {
            "text/plain": [
              "'C:\\\\Users\\\\19092\\\\DIGHUM 100'"
            ]
          },
          "metadata": {
            "tags": []
          },
          "execution_count": 26
        }
      ]
    },
    {
      "cell_type": "code",
      "metadata": {
        "id": "f5172f3d"
      },
      "source": [
        "import os"
      ],
      "id": "f5172f3d",
      "execution_count": null,
      "outputs": []
    },
    {
      "cell_type": "code",
      "metadata": {
        "id": "7aac568f",
        "outputId": "2baaa16f-0615-43e7-bf42-866c66ba8968"
      },
      "source": [
        "os.getcwd()"
      ],
      "id": "7aac568f",
      "execution_count": null,
      "outputs": [
        {
          "output_type": "execute_result",
          "data": {
            "text/plain": [
              "'C:\\\\Users\\\\19092\\\\DIGHUM 100'"
            ]
          },
          "metadata": {
            "tags": []
          },
          "execution_count": 28
        }
      ]
    },
    {
      "cell_type": "code",
      "metadata": {
        "id": "10fc526f",
        "outputId": "7e6f3a11-7347-4274-e6b0-fb66e11a1fe1"
      },
      "source": [
        "%ls"
      ],
      "id": "10fc526f",
      "execution_count": null,
      "outputs": [
        {
          "output_type": "stream",
          "text": [
            " Volume in drive C is Windows\n",
            " Volume Serial Number is 9029-7BDB\n",
            "\n",
            " Directory of C:\\Users\\19092\\DIGHUM 100\n",
            "\n",
            "06/06/2021  01:22 PM    <DIR>          .\n",
            "06/06/2021  01:22 PM    <DIR>          ..\n",
            "06/06/2021  11:32 AM    <DIR>          .ipynb_checkpoints\n",
            "06/06/2021  01:22 PM        68,713,814 covid19_tweets.csv\n",
            "06/06/2021  11:56 AM         1,965,758 IMDB Horror movies.csv\n",
            "06/06/2021  01:20 PM            39,670 StoryBoard.ipynb\n",
            "               3 File(s)     70,719,242 bytes\n",
            "               3 Dir(s)  28,085,784,576 bytes free\n"
          ],
          "name": "stdout"
        }
      ]
    },
    {
      "cell_type": "code",
      "metadata": {
        "id": "195fd0dd",
        "outputId": "0e05c5c8-30d0-490a-a025-3f8c0f1cc24f"
      },
      "source": [
        "imdb = pd.read_csv(\"IMDB Horror movies.csv\")\n",
        "\n",
        "imdb.head(5)"
      ],
      "id": "195fd0dd",
      "execution_count": null,
      "outputs": [
        {
          "output_type": "execute_result",
          "data": {
            "text/html": [
              "<div>\n",
              "<style scoped>\n",
              "    .dataframe tbody tr th:only-of-type {\n",
              "        vertical-align: middle;\n",
              "    }\n",
              "\n",
              "    .dataframe tbody tr th {\n",
              "        vertical-align: top;\n",
              "    }\n",
              "\n",
              "    .dataframe thead th {\n",
              "        text-align: right;\n",
              "    }\n",
              "</style>\n",
              "<table border=\"1\" class=\"dataframe\">\n",
              "  <thead>\n",
              "    <tr style=\"text-align: right;\">\n",
              "      <th></th>\n",
              "      <th>Title</th>\n",
              "      <th>Genres</th>\n",
              "      <th>Release Date</th>\n",
              "      <th>Release Country</th>\n",
              "      <th>Movie Rating</th>\n",
              "      <th>Review Rating</th>\n",
              "      <th>Movie Run Time</th>\n",
              "      <th>Plot</th>\n",
              "      <th>Cast</th>\n",
              "      <th>Language</th>\n",
              "      <th>Filming Locations</th>\n",
              "      <th>Budget</th>\n",
              "    </tr>\n",
              "  </thead>\n",
              "  <tbody>\n",
              "    <tr>\n",
              "      <th>0</th>\n",
              "      <td>Gut (2012)</td>\n",
              "      <td>Drama| Horror| Thriller</td>\n",
              "      <td>26-Oct-12</td>\n",
              "      <td>USA</td>\n",
              "      <td>NaN</td>\n",
              "      <td>3.9</td>\n",
              "      <td>91 min</td>\n",
              "      <td>Directed by Elias. With Jason Vail, Nicholas W...</td>\n",
              "      <td>Jason Vail|Nicholas Wilder|Sarah Schoofs|Kirst...</td>\n",
              "      <td>English</td>\n",
              "      <td>New York, USA</td>\n",
              "      <td>NaN</td>\n",
              "    </tr>\n",
              "    <tr>\n",
              "      <th>1</th>\n",
              "      <td>The Haunting of Mia Moss (2017)</td>\n",
              "      <td>Horror</td>\n",
              "      <td>13-Jan-17</td>\n",
              "      <td>USA</td>\n",
              "      <td>NaN</td>\n",
              "      <td>NaN</td>\n",
              "      <td>NaN</td>\n",
              "      <td>Directed by Jake Zelch. With Nicola Fiore, Bri...</td>\n",
              "      <td>Nicola Fiore|Brinke Stevens|Curtis Carnahan|Ja...</td>\n",
              "      <td>English</td>\n",
              "      <td>NaN</td>\n",
              "      <td>$30,000</td>\n",
              "    </tr>\n",
              "    <tr>\n",
              "      <th>2</th>\n",
              "      <td>Sleepwalking (2017)</td>\n",
              "      <td>Horror</td>\n",
              "      <td>21-Oct-17</td>\n",
              "      <td>Canada</td>\n",
              "      <td>NaN</td>\n",
              "      <td>NaN</td>\n",
              "      <td>NaN</td>\n",
              "      <td>Directed by David Briggs. With Alysia Topol, A...</td>\n",
              "      <td>Alysia Topol|Anthony Makela|Kelsi Ashley|Patri...</td>\n",
              "      <td>English</td>\n",
              "      <td>Sudbury, Ontario, Canada</td>\n",
              "      <td>NaN</td>\n",
              "    </tr>\n",
              "    <tr>\n",
              "      <th>3</th>\n",
              "      <td>Treasure Chest of Horrors II (2013)</td>\n",
              "      <td>Comedy| Horror| Thriller</td>\n",
              "      <td>23-Apr-13</td>\n",
              "      <td>USA</td>\n",
              "      <td>NOT RATED</td>\n",
              "      <td>3.7</td>\n",
              "      <td>82 min</td>\n",
              "      <td>Directed by M. Kelley, Shawn C. Phillips, Alex...</td>\n",
              "      <td>Veronica Ricci|Nicholas Adam Clark|James Culle...</td>\n",
              "      <td>English</td>\n",
              "      <td>Baltimore, Maryland, USA</td>\n",
              "      <td>NaN</td>\n",
              "    </tr>\n",
              "    <tr>\n",
              "      <th>4</th>\n",
              "      <td>Infidus (2015)</td>\n",
              "      <td>Crime| Drama| Horror</td>\n",
              "      <td>10-Apr-15</td>\n",
              "      <td>USA</td>\n",
              "      <td>NaN</td>\n",
              "      <td>5.8</td>\n",
              "      <td>80 min</td>\n",
              "      <td>Directed by Giulio De Santi. With Bonini Mino,...</td>\n",
              "      <td>Bonini Mino|Massimo Caratelli|Maurizio Zaffino...</td>\n",
              "      <td>Italian</td>\n",
              "      <td>NaN</td>\n",
              "      <td>NaN</td>\n",
              "    </tr>\n",
              "  </tbody>\n",
              "</table>\n",
              "</div>"
            ],
            "text/plain": [
              "                                 Title                     Genres  \\\n",
              "0                           Gut (2012)    Drama| Horror| Thriller   \n",
              "1      The Haunting of Mia Moss (2017)                     Horror   \n",
              "2                  Sleepwalking (2017)                     Horror   \n",
              "3  Treasure Chest of Horrors II (2013)   Comedy| Horror| Thriller   \n",
              "4                       Infidus (2015)       Crime| Drama| Horror   \n",
              "\n",
              "  Release Date Release Country Movie Rating  Review Rating Movie Run Time  \\\n",
              "0    26-Oct-12             USA          NaN            3.9         91 min   \n",
              "1    13-Jan-17             USA          NaN            NaN            NaN   \n",
              "2    21-Oct-17          Canada          NaN            NaN            NaN   \n",
              "3    23-Apr-13             USA    NOT RATED            3.7         82 min   \n",
              "4    10-Apr-15             USA          NaN            5.8         80 min   \n",
              "\n",
              "                                                Plot  \\\n",
              "0  Directed by Elias. With Jason Vail, Nicholas W...   \n",
              "1  Directed by Jake Zelch. With Nicola Fiore, Bri...   \n",
              "2  Directed by David Briggs. With Alysia Topol, A...   \n",
              "3  Directed by M. Kelley, Shawn C. Phillips, Alex...   \n",
              "4  Directed by Giulio De Santi. With Bonini Mino,...   \n",
              "\n",
              "                                                Cast Language  \\\n",
              "0  Jason Vail|Nicholas Wilder|Sarah Schoofs|Kirst...  English   \n",
              "1  Nicola Fiore|Brinke Stevens|Curtis Carnahan|Ja...  English   \n",
              "2  Alysia Topol|Anthony Makela|Kelsi Ashley|Patri...  English   \n",
              "3  Veronica Ricci|Nicholas Adam Clark|James Culle...  English   \n",
              "4  Bonini Mino|Massimo Caratelli|Maurizio Zaffino...  Italian   \n",
              "\n",
              "          Filming Locations    Budget  \n",
              "0             New York, USA       NaN  \n",
              "1                       NaN  $30,000   \n",
              "2  Sudbury, Ontario, Canada       NaN  \n",
              "3  Baltimore, Maryland, USA       NaN  \n",
              "4                       NaN       NaN  "
            ]
          },
          "metadata": {
            "tags": []
          },
          "execution_count": 22
        }
      ]
    },
    {
      "cell_type": "code",
      "metadata": {
        "id": "c924d6ae",
        "outputId": "d4ea990c-2875-4978-8563-5b612be068a0"
      },
      "source": [
        "print(imdb.shape)"
      ],
      "id": "c924d6ae",
      "execution_count": null,
      "outputs": [
        {
          "output_type": "stream",
          "text": [
            "(3328, 12)\n"
          ],
          "name": "stdout"
        }
      ]
    },
    {
      "cell_type": "code",
      "metadata": {
        "id": "30f7886d",
        "outputId": "55fc11f3-535c-4779-83fb-9e633cd0e6e5"
      },
      "source": [
        "tweets = pd.read_csv(\"covid19_tweets.csv\")\n",
        "\n",
        "tweets.head(5)"
      ],
      "id": "30f7886d",
      "execution_count": null,
      "outputs": [
        {
          "output_type": "execute_result",
          "data": {
            "text/html": [
              "<div>\n",
              "<style scoped>\n",
              "    .dataframe tbody tr th:only-of-type {\n",
              "        vertical-align: middle;\n",
              "    }\n",
              "\n",
              "    .dataframe tbody tr th {\n",
              "        vertical-align: top;\n",
              "    }\n",
              "\n",
              "    .dataframe thead th {\n",
              "        text-align: right;\n",
              "    }\n",
              "</style>\n",
              "<table border=\"1\" class=\"dataframe\">\n",
              "  <thead>\n",
              "    <tr style=\"text-align: right;\">\n",
              "      <th></th>\n",
              "      <th>user_name</th>\n",
              "      <th>user_location</th>\n",
              "      <th>user_description</th>\n",
              "      <th>user_created</th>\n",
              "      <th>user_followers</th>\n",
              "      <th>user_friends</th>\n",
              "      <th>user_favourites</th>\n",
              "      <th>user_verified</th>\n",
              "      <th>date</th>\n",
              "      <th>text</th>\n",
              "      <th>hashtags</th>\n",
              "      <th>source</th>\n",
              "      <th>is_retweet</th>\n",
              "    </tr>\n",
              "  </thead>\n",
              "  <tbody>\n",
              "    <tr>\n",
              "      <th>0</th>\n",
              "      <td>ᏉᎥ☻լꂅϮ</td>\n",
              "      <td>astroworld</td>\n",
              "      <td>wednesday addams as a disney princess keepin i...</td>\n",
              "      <td>2017-05-26 05:46:42</td>\n",
              "      <td>624</td>\n",
              "      <td>950</td>\n",
              "      <td>18775</td>\n",
              "      <td>False</td>\n",
              "      <td>2020-07-25 12:27:21</td>\n",
              "      <td>If I smelled the scent of hand sanitizers toda...</td>\n",
              "      <td>NaN</td>\n",
              "      <td>Twitter for iPhone</td>\n",
              "      <td>False</td>\n",
              "    </tr>\n",
              "    <tr>\n",
              "      <th>1</th>\n",
              "      <td>Tom Basile 🇺🇸</td>\n",
              "      <td>New York, NY</td>\n",
              "      <td>Husband, Father, Columnist &amp; Commentator. Auth...</td>\n",
              "      <td>2009-04-16 20:06:23</td>\n",
              "      <td>2253</td>\n",
              "      <td>1677</td>\n",
              "      <td>24</td>\n",
              "      <td>True</td>\n",
              "      <td>2020-07-25 12:27:17</td>\n",
              "      <td>Hey @Yankees @YankeesPR and @MLB - wouldn't it...</td>\n",
              "      <td>NaN</td>\n",
              "      <td>Twitter for Android</td>\n",
              "      <td>False</td>\n",
              "    </tr>\n",
              "    <tr>\n",
              "      <th>2</th>\n",
              "      <td>Time4fisticuffs</td>\n",
              "      <td>Pewee Valley, KY</td>\n",
              "      <td>#Christian #Catholic #Conservative #Reagan #Re...</td>\n",
              "      <td>2009-02-28 18:57:41</td>\n",
              "      <td>9275</td>\n",
              "      <td>9525</td>\n",
              "      <td>7254</td>\n",
              "      <td>False</td>\n",
              "      <td>2020-07-25 12:27:14</td>\n",
              "      <td>@diane3443 @wdunlap @realDonaldTrump Trump nev...</td>\n",
              "      <td>['COVID19']</td>\n",
              "      <td>Twitter for Android</td>\n",
              "      <td>False</td>\n",
              "    </tr>\n",
              "    <tr>\n",
              "      <th>3</th>\n",
              "      <td>ethel mertz</td>\n",
              "      <td>Stuck in the Middle</td>\n",
              "      <td>#Browns #Indians #ClevelandProud #[]_[] #Cavs ...</td>\n",
              "      <td>2019-03-07 01:45:06</td>\n",
              "      <td>197</td>\n",
              "      <td>987</td>\n",
              "      <td>1488</td>\n",
              "      <td>False</td>\n",
              "      <td>2020-07-25 12:27:10</td>\n",
              "      <td>@brookbanktv The one gift #COVID19 has give me...</td>\n",
              "      <td>['COVID19']</td>\n",
              "      <td>Twitter for iPhone</td>\n",
              "      <td>False</td>\n",
              "    </tr>\n",
              "    <tr>\n",
              "      <th>4</th>\n",
              "      <td>DIPR-J&amp;K</td>\n",
              "      <td>Jammu and Kashmir</td>\n",
              "      <td>🖊️Official Twitter handle of Department of Inf...</td>\n",
              "      <td>2017-02-12 06:45:15</td>\n",
              "      <td>101009</td>\n",
              "      <td>168</td>\n",
              "      <td>101</td>\n",
              "      <td>False</td>\n",
              "      <td>2020-07-25 12:27:08</td>\n",
              "      <td>25 July : Media Bulletin on Novel #CoronaVirus...</td>\n",
              "      <td>['CoronaVirusUpdates', 'COVID19']</td>\n",
              "      <td>Twitter for Android</td>\n",
              "      <td>False</td>\n",
              "    </tr>\n",
              "  </tbody>\n",
              "</table>\n",
              "</div>"
            ],
            "text/plain": [
              "         user_name         user_location  \\\n",
              "0           ᏉᎥ☻լꂅϮ            astroworld   \n",
              "1    Tom Basile 🇺🇸          New York, NY   \n",
              "2  Time4fisticuffs      Pewee Valley, KY   \n",
              "3      ethel mertz  Stuck in the Middle    \n",
              "4         DIPR-J&K     Jammu and Kashmir   \n",
              "\n",
              "                                    user_description         user_created  \\\n",
              "0  wednesday addams as a disney princess keepin i...  2017-05-26 05:46:42   \n",
              "1  Husband, Father, Columnist & Commentator. Auth...  2009-04-16 20:06:23   \n",
              "2  #Christian #Catholic #Conservative #Reagan #Re...  2009-02-28 18:57:41   \n",
              "3  #Browns #Indians #ClevelandProud #[]_[] #Cavs ...  2019-03-07 01:45:06   \n",
              "4  🖊️Official Twitter handle of Department of Inf...  2017-02-12 06:45:15   \n",
              "\n",
              "   user_followers  user_friends  user_favourites  user_verified  \\\n",
              "0             624           950            18775          False   \n",
              "1            2253          1677               24           True   \n",
              "2            9275          9525             7254          False   \n",
              "3             197           987             1488          False   \n",
              "4          101009           168              101          False   \n",
              "\n",
              "                  date                                               text  \\\n",
              "0  2020-07-25 12:27:21  If I smelled the scent of hand sanitizers toda...   \n",
              "1  2020-07-25 12:27:17  Hey @Yankees @YankeesPR and @MLB - wouldn't it...   \n",
              "2  2020-07-25 12:27:14  @diane3443 @wdunlap @realDonaldTrump Trump nev...   \n",
              "3  2020-07-25 12:27:10  @brookbanktv The one gift #COVID19 has give me...   \n",
              "4  2020-07-25 12:27:08  25 July : Media Bulletin on Novel #CoronaVirus...   \n",
              "\n",
              "                            hashtags               source  is_retweet  \n",
              "0                                NaN   Twitter for iPhone       False  \n",
              "1                                NaN  Twitter for Android       False  \n",
              "2                        ['COVID19']  Twitter for Android       False  \n",
              "3                        ['COVID19']   Twitter for iPhone       False  \n",
              "4  ['CoronaVirusUpdates', 'COVID19']  Twitter for Android       False  "
            ]
          },
          "metadata": {
            "tags": []
          },
          "execution_count": 30
        }
      ]
    },
    {
      "cell_type": "code",
      "metadata": {
        "id": "fe622ea8",
        "outputId": "a3e4975f-e0cc-474a-93ce-9a1cefd98e58"
      },
      "source": [
        "print(imdb.shape)"
      ],
      "id": "fe622ea8",
      "execution_count": null,
      "outputs": [
        {
          "output_type": "stream",
          "text": [
            "(3328, 12)\n"
          ],
          "name": "stdout"
        }
      ]
    },
    {
      "cell_type": "markdown",
      "metadata": {
        "id": "1597f95b"
      },
      "source": [
        "# What I want to do next"
      ],
      "id": "1597f95b"
    },
    {
      "cell_type": "markdown",
      "metadata": {
        "id": "307d6a53"
      },
      "source": [
        "#### - I am quite unsure about how to conver columns into an array of strings. I'm not sure how to do this. I want to count word frequency by doing this. \n",
        "#### - At some point I would like to merge tables\n",
        "#### - Having some difficulty with the datascience package. I learned a lot of my methods in coding from data8, the package isn't quite working, not sure what I am doing wrong. "
      ],
      "id": "307d6a53"
    }
  ]
}